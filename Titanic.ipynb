{
 "cells": [
  {
   "cell_type": "markdown",
   "metadata": {
    "_cell_guid": "8b52ad27-3331-4b31-8187-c5eaf9765520",
    "_uuid": "679ab5a9170692d350c8c15c1ec3e6edbbecd6a0"
   },
   "source": [
    "This is my first work on kaggle. Any feedback to improve my work will be appreciated. Thanks."
   ]
  },
  {
   "cell_type": "markdown",
   "metadata": {
    "_cell_guid": "5af6680e-d6ed-49db-b76c-bad05e9a052c",
    "_uuid": "e9aeea7b5b6d37bef7325d6885e6df25a066c630"
   },
   "source": [
    "\n",
    "# 1. Collecting the data:\n"
   ]
  },
  {
   "cell_type": "code",
   "execution_count": 1,
   "metadata": {
    "_cell_guid": "2b24cc44-a185-4019-88c1-2a867fe806e5",
    "_uuid": "183ba9fdc78e15efbed564f7768eac3b77f63e92"
   },
   "outputs": [],
   "source": [
    "# This Python 3 environment comes with many helpful analytics libraries installed\n",
    "# It is defined by the kaggle/python docker image: https://github.com/kaggle/docker-python\n",
    "# For example, here's several helpful packages to load in \n",
    "\n",
    "import numpy as np # linear algebra\n",
    "import pandas as pd # data processing, CSV file I/O (e.g. pd.read_csv)\n",
    "\n",
    "# Input data files are available in the \"../input/\" directory.\n",
    "# For example, running this (by clicking run or pressing Shift+Enter) will list the files in the input directory\n",
    "\n",
    "# from subprocess import check_output\n",
    "# print(check_output([\"ls\", \"../input\"]).decode(\"utf8\"))\n",
    "\n",
    "# Any results you write to the current directory are saved as output."
   ]
  },
  {
   "cell_type": "markdown",
   "metadata": {
    "_cell_guid": "4ea927eb-9363-45c2-9f18-c85d6cb6a337",
    "_uuid": "17d982d49cbb8a129b6636c2e5040e0bf60ff987"
   },
   "source": [
    "First we read the input files using pandas library into the corresponding dataframes, where **train** will be used to train the model(s) and **test** will be used to predict the missing response variable. "
   ]
  },
  {
   "cell_type": "code",
   "execution_count": 2,
   "metadata": {
    "_cell_guid": "67a7adfb-8918-47cd-8b65-a906dd6a6a61",
    "_uuid": "c18f9e29e84fcd1035deb7411f002fc534eb1045"
   },
   "outputs": [],
   "source": [
    "train = pd.read_csv('train.csv')\n",
    "test = pd.read_csv('test.csv')"
   ]
  },
  {
   "cell_type": "markdown",
   "metadata": {
    "_cell_guid": "97d1ecce-ed72-4b70-afd2-03262516e6cb",
    "_uuid": "4786aace4bab64012e684b522e025c9488143058"
   },
   "source": [
    "# 2. Pre-processing the data:\n",
    "\n",
    "Let us check the first few columns of each dataframe:"
   ]
  },
  {
   "cell_type": "code",
   "execution_count": 3,
   "metadata": {
    "_cell_guid": "1f7e3460-c7c3-4055-bb3b-8e3cecf89b3e",
    "_uuid": "9753ee024424848c5f596170f578f897f6f418da"
   },
   "outputs": [
    {
     "data": {
      "text/html": [
       "<div>\n",
       "<style>\n",
       "    .dataframe thead tr:only-child th {\n",
       "        text-align: right;\n",
       "    }\n",
       "\n",
       "    .dataframe thead th {\n",
       "        text-align: left;\n",
       "    }\n",
       "\n",
       "    .dataframe tbody tr th {\n",
       "        vertical-align: top;\n",
       "    }\n",
       "</style>\n",
       "<table border=\"1\" class=\"dataframe\">\n",
       "  <thead>\n",
       "    <tr style=\"text-align: right;\">\n",
       "      <th></th>\n",
       "      <th>PassengerId</th>\n",
       "      <th>Survived</th>\n",
       "      <th>Pclass</th>\n",
       "      <th>Name</th>\n",
       "      <th>Sex</th>\n",
       "      <th>Age</th>\n",
       "      <th>SibSp</th>\n",
       "      <th>Parch</th>\n",
       "      <th>Ticket</th>\n",
       "      <th>Fare</th>\n",
       "      <th>Cabin</th>\n",
       "      <th>Embarked</th>\n",
       "    </tr>\n",
       "  </thead>\n",
       "  <tbody>\n",
       "    <tr>\n",
       "      <th>0</th>\n",
       "      <td>1</td>\n",
       "      <td>0</td>\n",
       "      <td>3</td>\n",
       "      <td>Braund, Mr. Owen Harris</td>\n",
       "      <td>male</td>\n",
       "      <td>22.0</td>\n",
       "      <td>1</td>\n",
       "      <td>0</td>\n",
       "      <td>A/5 21171</td>\n",
       "      <td>7.2500</td>\n",
       "      <td>NaN</td>\n",
       "      <td>S</td>\n",
       "    </tr>\n",
       "    <tr>\n",
       "      <th>1</th>\n",
       "      <td>2</td>\n",
       "      <td>1</td>\n",
       "      <td>1</td>\n",
       "      <td>Cumings, Mrs. John Bradley (Florence Briggs Th...</td>\n",
       "      <td>female</td>\n",
       "      <td>38.0</td>\n",
       "      <td>1</td>\n",
       "      <td>0</td>\n",
       "      <td>PC 17599</td>\n",
       "      <td>71.2833</td>\n",
       "      <td>C85</td>\n",
       "      <td>C</td>\n",
       "    </tr>\n",
       "    <tr>\n",
       "      <th>2</th>\n",
       "      <td>3</td>\n",
       "      <td>1</td>\n",
       "      <td>3</td>\n",
       "      <td>Heikkinen, Miss. Laina</td>\n",
       "      <td>female</td>\n",
       "      <td>26.0</td>\n",
       "      <td>0</td>\n",
       "      <td>0</td>\n",
       "      <td>STON/O2. 3101282</td>\n",
       "      <td>7.9250</td>\n",
       "      <td>NaN</td>\n",
       "      <td>S</td>\n",
       "    </tr>\n",
       "    <tr>\n",
       "      <th>3</th>\n",
       "      <td>4</td>\n",
       "      <td>1</td>\n",
       "      <td>1</td>\n",
       "      <td>Futrelle, Mrs. Jacques Heath (Lily May Peel)</td>\n",
       "      <td>female</td>\n",
       "      <td>35.0</td>\n",
       "      <td>1</td>\n",
       "      <td>0</td>\n",
       "      <td>113803</td>\n",
       "      <td>53.1000</td>\n",
       "      <td>C123</td>\n",
       "      <td>S</td>\n",
       "    </tr>\n",
       "    <tr>\n",
       "      <th>4</th>\n",
       "      <td>5</td>\n",
       "      <td>0</td>\n",
       "      <td>3</td>\n",
       "      <td>Allen, Mr. William Henry</td>\n",
       "      <td>male</td>\n",
       "      <td>35.0</td>\n",
       "      <td>0</td>\n",
       "      <td>0</td>\n",
       "      <td>373450</td>\n",
       "      <td>8.0500</td>\n",
       "      <td>NaN</td>\n",
       "      <td>S</td>\n",
       "    </tr>\n",
       "  </tbody>\n",
       "</table>\n",
       "</div>"
      ],
      "text/plain": [
       "   PassengerId  Survived  Pclass  \\\n",
       "0            1         0       3   \n",
       "1            2         1       1   \n",
       "2            3         1       3   \n",
       "3            4         1       1   \n",
       "4            5         0       3   \n",
       "\n",
       "                                                Name     Sex   Age  SibSp  \\\n",
       "0                            Braund, Mr. Owen Harris    male  22.0      1   \n",
       "1  Cumings, Mrs. John Bradley (Florence Briggs Th...  female  38.0      1   \n",
       "2                             Heikkinen, Miss. Laina  female  26.0      0   \n",
       "3       Futrelle, Mrs. Jacques Heath (Lily May Peel)  female  35.0      1   \n",
       "4                           Allen, Mr. William Henry    male  35.0      0   \n",
       "\n",
       "   Parch            Ticket     Fare Cabin Embarked  \n",
       "0      0         A/5 21171   7.2500   NaN        S  \n",
       "1      0          PC 17599  71.2833   C85        C  \n",
       "2      0  STON/O2. 3101282   7.9250   NaN        S  \n",
       "3      0            113803  53.1000  C123        S  \n",
       "4      0            373450   8.0500   NaN        S  "
      ]
     },
     "execution_count": 3,
     "metadata": {},
     "output_type": "execute_result"
    }
   ],
   "source": [
    "train.head()"
   ]
  },
  {
   "cell_type": "code",
   "execution_count": 4,
   "metadata": {
    "_cell_guid": "b87be1e1-f86b-4112-ae44-5dec94c547ba",
    "_uuid": "3bb26e22bda7c06d865805a10d4ac2a1ff0b1bb8"
   },
   "outputs": [
    {
     "data": {
      "text/html": [
       "<div>\n",
       "<style>\n",
       "    .dataframe thead tr:only-child th {\n",
       "        text-align: right;\n",
       "    }\n",
       "\n",
       "    .dataframe thead th {\n",
       "        text-align: left;\n",
       "    }\n",
       "\n",
       "    .dataframe tbody tr th {\n",
       "        vertical-align: top;\n",
       "    }\n",
       "</style>\n",
       "<table border=\"1\" class=\"dataframe\">\n",
       "  <thead>\n",
       "    <tr style=\"text-align: right;\">\n",
       "      <th></th>\n",
       "      <th>PassengerId</th>\n",
       "      <th>Pclass</th>\n",
       "      <th>Name</th>\n",
       "      <th>Sex</th>\n",
       "      <th>Age</th>\n",
       "      <th>SibSp</th>\n",
       "      <th>Parch</th>\n",
       "      <th>Ticket</th>\n",
       "      <th>Fare</th>\n",
       "      <th>Cabin</th>\n",
       "      <th>Embarked</th>\n",
       "    </tr>\n",
       "  </thead>\n",
       "  <tbody>\n",
       "    <tr>\n",
       "      <th>0</th>\n",
       "      <td>892</td>\n",
       "      <td>3</td>\n",
       "      <td>Kelly, Mr. James</td>\n",
       "      <td>male</td>\n",
       "      <td>34.5</td>\n",
       "      <td>0</td>\n",
       "      <td>0</td>\n",
       "      <td>330911</td>\n",
       "      <td>7.8292</td>\n",
       "      <td>NaN</td>\n",
       "      <td>Q</td>\n",
       "    </tr>\n",
       "    <tr>\n",
       "      <th>1</th>\n",
       "      <td>893</td>\n",
       "      <td>3</td>\n",
       "      <td>Wilkes, Mrs. James (Ellen Needs)</td>\n",
       "      <td>female</td>\n",
       "      <td>47.0</td>\n",
       "      <td>1</td>\n",
       "      <td>0</td>\n",
       "      <td>363272</td>\n",
       "      <td>7.0000</td>\n",
       "      <td>NaN</td>\n",
       "      <td>S</td>\n",
       "    </tr>\n",
       "    <tr>\n",
       "      <th>2</th>\n",
       "      <td>894</td>\n",
       "      <td>2</td>\n",
       "      <td>Myles, Mr. Thomas Francis</td>\n",
       "      <td>male</td>\n",
       "      <td>62.0</td>\n",
       "      <td>0</td>\n",
       "      <td>0</td>\n",
       "      <td>240276</td>\n",
       "      <td>9.6875</td>\n",
       "      <td>NaN</td>\n",
       "      <td>Q</td>\n",
       "    </tr>\n",
       "    <tr>\n",
       "      <th>3</th>\n",
       "      <td>895</td>\n",
       "      <td>3</td>\n",
       "      <td>Wirz, Mr. Albert</td>\n",
       "      <td>male</td>\n",
       "      <td>27.0</td>\n",
       "      <td>0</td>\n",
       "      <td>0</td>\n",
       "      <td>315154</td>\n",
       "      <td>8.6625</td>\n",
       "      <td>NaN</td>\n",
       "      <td>S</td>\n",
       "    </tr>\n",
       "    <tr>\n",
       "      <th>4</th>\n",
       "      <td>896</td>\n",
       "      <td>3</td>\n",
       "      <td>Hirvonen, Mrs. Alexander (Helga E Lindqvist)</td>\n",
       "      <td>female</td>\n",
       "      <td>22.0</td>\n",
       "      <td>1</td>\n",
       "      <td>1</td>\n",
       "      <td>3101298</td>\n",
       "      <td>12.2875</td>\n",
       "      <td>NaN</td>\n",
       "      <td>S</td>\n",
       "    </tr>\n",
       "  </tbody>\n",
       "</table>\n",
       "</div>"
      ],
      "text/plain": [
       "   PassengerId  Pclass                                          Name     Sex  \\\n",
       "0          892       3                              Kelly, Mr. James    male   \n",
       "1          893       3              Wilkes, Mrs. James (Ellen Needs)  female   \n",
       "2          894       2                     Myles, Mr. Thomas Francis    male   \n",
       "3          895       3                              Wirz, Mr. Albert    male   \n",
       "4          896       3  Hirvonen, Mrs. Alexander (Helga E Lindqvist)  female   \n",
       "\n",
       "    Age  SibSp  Parch   Ticket     Fare Cabin Embarked  \n",
       "0  34.5      0      0   330911   7.8292   NaN        Q  \n",
       "1  47.0      1      0   363272   7.0000   NaN        S  \n",
       "2  62.0      0      0   240276   9.6875   NaN        Q  \n",
       "3  27.0      0      0   315154   8.6625   NaN        S  \n",
       "4  22.0      1      1  3101298  12.2875   NaN        S  "
      ]
     },
     "execution_count": 4,
     "metadata": {},
     "output_type": "execute_result"
    }
   ],
   "source": [
    "test.head()"
   ]
  },
  {
   "cell_type": "markdown",
   "metadata": {
    "_cell_guid": "ad699021-e35a-4275-94e4-d8c6798c11ef",
    "_uuid": "40c2f4d486cc542cbb5faf5a0db8703d25099183"
   },
   "source": [
    "We see that the response variable **Survived** is missing in the **test** dataframe because the goal is to predict it. Next we save the **Survived** column in the traning dataset into a separate list to be used later to train the model(s) we will be using. But first, we make sure that the target feature **Survived** doesn't contain any missing data as follows:"
   ]
  },
  {
   "cell_type": "code",
   "execution_count": 5,
   "metadata": {
    "_cell_guid": "0ef33329-99f8-4572-b6f8-6305f4e2e26b",
    "_uuid": "04cdfda934b7b6bcebb23ef045bca1aebc756334"
   },
   "outputs": [
    {
     "data": {
      "text/plain": [
       "0"
      ]
     },
     "execution_count": 5,
     "metadata": {},
     "output_type": "execute_result"
    }
   ],
   "source": [
    "train['Survived'].isnull().sum()"
   ]
  },
  {
   "cell_type": "markdown",
   "metadata": {
    "_cell_guid": "31309032-b475-4f2f-b282-cb51fad7d704",
    "_uuid": "41d720ede1de0f486aa802b9a8381b546e7380e2"
   },
   "source": [
    "It seems it doesn't have any missing data. So, we go ahead and save it into a separete list, and drop it from the training dataset. We do this in order to combine the training and testing datasets to be pre-processed together, and the testing dataset doesn't have the traget feature column. "
   ]
  },
  {
   "cell_type": "code",
   "execution_count": 6,
   "metadata": {
    "_cell_guid": "1b4bb484-3428-478a-aadd-d2c46cccd256",
    "_uuid": "25d7fc5049fd3c2b7bc5385c9f9e90a42bac7737"
   },
   "outputs": [],
   "source": [
    "survived = train['Survived']\n",
    "train.drop('Survived', axis = 1, inplace = True)"
   ]
  },
  {
   "cell_type": "markdown",
   "metadata": {
    "_cell_guid": "a066febe-72e4-4098-971c-32b8f978e3b1",
    "_uuid": "9ea542d3a47e0906000e3f804fad8ed39b555cf3"
   },
   "source": [
    "Also, the column **PassengerId** in the testing dataset is required for the final reporting of the results, and thus, we will save it into a separate list, because it will be dropped in the next step for its unlikely relevance to the target feature **Survived**. First, as we did with the **Survived** feature, we check if it has any missing data, and then save it into a separete list. Note that we won't drop this column here, because there is a corresponding column in the training dataset, and it will be dropped at once from both datasets after we combine them for pre-processing as we will see in the next step."
   ]
  },
  {
   "cell_type": "code",
   "execution_count": 7,
   "metadata": {
    "_cell_guid": "4dd8c743-f24e-4b01-b775-1b32f8db760b",
    "_uuid": "70bea317a781fcfe361447bb7b6a315e7fae2a52"
   },
   "outputs": [
    {
     "data": {
      "text/plain": [
       "0"
      ]
     },
     "execution_count": 7,
     "metadata": {},
     "output_type": "execute_result"
    }
   ],
   "source": [
    "test['PassengerId'].isnull().sum()"
   ]
  },
  {
   "cell_type": "code",
   "execution_count": 8,
   "metadata": {
    "_cell_guid": "15adc538-550e-4bb9-b11a-613568684d04",
    "_uuid": "9f6d3178427aecc75edc4e807dfcb46190c4c0bc"
   },
   "outputs": [],
   "source": [
    "PssId = test['PassengerId']"
   ]
  },
  {
   "cell_type": "markdown",
   "metadata": {
    "_cell_guid": "d27496d6-231c-4b7b-b598-a8090c87e386",
    "_uuid": "aabe92f59ff3d51f150ce806982ed27272a37a1d"
   },
   "source": [
    "At this stage, we will combine the training and testing datasets to pre-process the data in both files at once. So, we concatenate the two dataframes, and use multi-level indexing such that the rows that correspond to the traning dataset have a level 0 index of **train**. Similarily, the rows that correspong to the testing dataset have a level 0 index of **test**. This will make it easier later on to retrieve the data that belong to each dataset after completing the pre-processing step."
   ]
  },
  {
   "cell_type": "code",
   "execution_count": 9,
   "metadata": {
    "_cell_guid": "2951c7f7-ab37-4700-a1a9-6f06ea2478e7",
    "_uuid": "c207ba8c7c551bb12ea3403772ae87a82417f8cb"
   },
   "outputs": [
    {
     "data": {
      "text/html": [
       "<div>\n",
       "<style>\n",
       "    .dataframe thead tr:only-child th {\n",
       "        text-align: right;\n",
       "    }\n",
       "\n",
       "    .dataframe thead th {\n",
       "        text-align: left;\n",
       "    }\n",
       "\n",
       "    .dataframe tbody tr th {\n",
       "        vertical-align: top;\n",
       "    }\n",
       "</style>\n",
       "<table border=\"1\" class=\"dataframe\">\n",
       "  <thead>\n",
       "    <tr style=\"text-align: right;\">\n",
       "      <th></th>\n",
       "      <th></th>\n",
       "      <th>PassengerId</th>\n",
       "      <th>Pclass</th>\n",
       "      <th>Name</th>\n",
       "      <th>Sex</th>\n",
       "      <th>Age</th>\n",
       "      <th>SibSp</th>\n",
       "      <th>Parch</th>\n",
       "      <th>Ticket</th>\n",
       "      <th>Fare</th>\n",
       "      <th>Cabin</th>\n",
       "      <th>Embarked</th>\n",
       "    </tr>\n",
       "    <tr>\n",
       "      <th>dataset</th>\n",
       "      <th>index</th>\n",
       "      <th></th>\n",
       "      <th></th>\n",
       "      <th></th>\n",
       "      <th></th>\n",
       "      <th></th>\n",
       "      <th></th>\n",
       "      <th></th>\n",
       "      <th></th>\n",
       "      <th></th>\n",
       "      <th></th>\n",
       "      <th></th>\n",
       "    </tr>\n",
       "  </thead>\n",
       "  <tbody>\n",
       "    <tr>\n",
       "      <th rowspan=\"5\" valign=\"top\">train</th>\n",
       "      <th>0</th>\n",
       "      <td>1</td>\n",
       "      <td>3</td>\n",
       "      <td>Braund, Mr. Owen Harris</td>\n",
       "      <td>male</td>\n",
       "      <td>22.0</td>\n",
       "      <td>1</td>\n",
       "      <td>0</td>\n",
       "      <td>A/5 21171</td>\n",
       "      <td>7.2500</td>\n",
       "      <td>NaN</td>\n",
       "      <td>S</td>\n",
       "    </tr>\n",
       "    <tr>\n",
       "      <th>1</th>\n",
       "      <td>2</td>\n",
       "      <td>1</td>\n",
       "      <td>Cumings, Mrs. John Bradley (Florence Briggs Th...</td>\n",
       "      <td>female</td>\n",
       "      <td>38.0</td>\n",
       "      <td>1</td>\n",
       "      <td>0</td>\n",
       "      <td>PC 17599</td>\n",
       "      <td>71.2833</td>\n",
       "      <td>C85</td>\n",
       "      <td>C</td>\n",
       "    </tr>\n",
       "    <tr>\n",
       "      <th>2</th>\n",
       "      <td>3</td>\n",
       "      <td>3</td>\n",
       "      <td>Heikkinen, Miss. Laina</td>\n",
       "      <td>female</td>\n",
       "      <td>26.0</td>\n",
       "      <td>0</td>\n",
       "      <td>0</td>\n",
       "      <td>STON/O2. 3101282</td>\n",
       "      <td>7.9250</td>\n",
       "      <td>NaN</td>\n",
       "      <td>S</td>\n",
       "    </tr>\n",
       "    <tr>\n",
       "      <th>3</th>\n",
       "      <td>4</td>\n",
       "      <td>1</td>\n",
       "      <td>Futrelle, Mrs. Jacques Heath (Lily May Peel)</td>\n",
       "      <td>female</td>\n",
       "      <td>35.0</td>\n",
       "      <td>1</td>\n",
       "      <td>0</td>\n",
       "      <td>113803</td>\n",
       "      <td>53.1000</td>\n",
       "      <td>C123</td>\n",
       "      <td>S</td>\n",
       "    </tr>\n",
       "    <tr>\n",
       "      <th>4</th>\n",
       "      <td>5</td>\n",
       "      <td>3</td>\n",
       "      <td>Allen, Mr. William Henry</td>\n",
       "      <td>male</td>\n",
       "      <td>35.0</td>\n",
       "      <td>0</td>\n",
       "      <td>0</td>\n",
       "      <td>373450</td>\n",
       "      <td>8.0500</td>\n",
       "      <td>NaN</td>\n",
       "      <td>S</td>\n",
       "    </tr>\n",
       "  </tbody>\n",
       "</table>\n",
       "</div>"
      ],
      "text/plain": [
       "               PassengerId  Pclass  \\\n",
       "dataset index                        \n",
       "train   0                1       3   \n",
       "        1                2       1   \n",
       "        2                3       3   \n",
       "        3                4       1   \n",
       "        4                5       3   \n",
       "\n",
       "                                                            Name     Sex  \\\n",
       "dataset index                                                              \n",
       "train   0                                Braund, Mr. Owen Harris    male   \n",
       "        1      Cumings, Mrs. John Bradley (Florence Briggs Th...  female   \n",
       "        2                                 Heikkinen, Miss. Laina  female   \n",
       "        3           Futrelle, Mrs. Jacques Heath (Lily May Peel)  female   \n",
       "        4                               Allen, Mr. William Henry    male   \n",
       "\n",
       "                Age  SibSp  Parch            Ticket     Fare Cabin Embarked  \n",
       "dataset index                                                                \n",
       "train   0      22.0      1      0         A/5 21171   7.2500   NaN        S  \n",
       "        1      38.0      1      0          PC 17599  71.2833   C85        C  \n",
       "        2      26.0      0      0  STON/O2. 3101282   7.9250   NaN        S  \n",
       "        3      35.0      1      0            113803  53.1000  C123        S  \n",
       "        4      35.0      0      0            373450   8.0500   NaN        S  "
      ]
     },
     "execution_count": 9,
     "metadata": {},
     "output_type": "execute_result"
    }
   ],
   "source": [
    "train_test = pd.concat([train,test], keys = ['train', 'test'], names = ['dataset', 'index'])\n",
    "train_test.head()"
   ]
  },
  {
   "cell_type": "markdown",
   "metadata": {
    "_cell_guid": "2457b816-bec5-48be-b40a-0d7c1cc98f2b",
    "_uuid": "67aec1a2af344e09b3ca618127a46a20acd33d41"
   },
   "source": [
    "Now that we have combined the datasets, we can clean the data, and keep the relevent features. Let us first check the details of the combined dataframes."
   ]
  },
  {
   "cell_type": "code",
   "execution_count": 10,
   "metadata": {
    "_cell_guid": "e6a0f6c2-fb61-4e05-b726-a84c277238f5",
    "_uuid": "3f7ae1652ef2c89c4647cd1d7c69340c422a221c"
   },
   "outputs": [
    {
     "name": "stdout",
     "output_type": "stream",
     "text": [
      "<class 'pandas.core.frame.DataFrame'>\n",
      "MultiIndex: 1309 entries, (train, 0) to (test, 417)\n",
      "Data columns (total 11 columns):\n",
      "PassengerId    1309 non-null int64\n",
      "Pclass         1309 non-null int64\n",
      "Name           1309 non-null object\n",
      "Sex            1309 non-null object\n",
      "Age            1046 non-null float64\n",
      "SibSp          1309 non-null int64\n",
      "Parch          1309 non-null int64\n",
      "Ticket         1309 non-null object\n",
      "Fare           1308 non-null float64\n",
      "Cabin          295 non-null object\n",
      "Embarked       1307 non-null object\n",
      "dtypes: float64(2), int64(4), object(5)\n",
      "memory usage: 123.4+ KB\n"
     ]
    }
   ],
   "source": [
    "train_test.info()"
   ]
  },
  {
   "cell_type": "markdown",
   "metadata": {
    "_cell_guid": "24064439-844d-4fe2-a39b-e3955ec8e266",
    "_uuid": "e23af8e0730ffcb1bbbb0bd3c62ac961da3e17a0"
   },
   "source": [
    "We see that we have 11 features, all of which seems to have the correct datatypes. So, we don't need to cast any datatypes. We also note that we have 1309 observations. Comparing the number of non-null values in each feature with this total number of observations reveals that some features have some missing data. These features are: **Age**, **Fare**, **Cabin**, and **Embarked**. We will address these missing data shortly. \n",
    "\n",
    "Intuitively, the **Name** column has no effect on the survival rate of the person. So, it is probably safe to drop it. The **Ticket** feature also doesn't seem to have any information that could distinguish the survival probability of different ticket holders. So, it can be dropped as well. **PassengerId** is just a sequential number in the datasets, and it's unlikely to have any effect in the data. So, it will also be droped."
   ]
  },
  {
   "cell_type": "code",
   "execution_count": 11,
   "metadata": {
    "_cell_guid": "22aecc08-1315-4711-a058-96a0712b3294",
    "_uuid": "9f9b462cab06c2e0ef66e09d60adbc28de40183d"
   },
   "outputs": [
    {
     "data": {
      "text/html": [
       "<div>\n",
       "<style>\n",
       "    .dataframe thead tr:only-child th {\n",
       "        text-align: right;\n",
       "    }\n",
       "\n",
       "    .dataframe thead th {\n",
       "        text-align: left;\n",
       "    }\n",
       "\n",
       "    .dataframe tbody tr th {\n",
       "        vertical-align: top;\n",
       "    }\n",
       "</style>\n",
       "<table border=\"1\" class=\"dataframe\">\n",
       "  <thead>\n",
       "    <tr style=\"text-align: right;\">\n",
       "      <th></th>\n",
       "      <th></th>\n",
       "      <th>Pclass</th>\n",
       "      <th>Sex</th>\n",
       "      <th>Age</th>\n",
       "      <th>SibSp</th>\n",
       "      <th>Parch</th>\n",
       "      <th>Fare</th>\n",
       "      <th>Cabin</th>\n",
       "      <th>Embarked</th>\n",
       "    </tr>\n",
       "    <tr>\n",
       "      <th>dataset</th>\n",
       "      <th>index</th>\n",
       "      <th></th>\n",
       "      <th></th>\n",
       "      <th></th>\n",
       "      <th></th>\n",
       "      <th></th>\n",
       "      <th></th>\n",
       "      <th></th>\n",
       "      <th></th>\n",
       "    </tr>\n",
       "  </thead>\n",
       "  <tbody>\n",
       "    <tr>\n",
       "      <th rowspan=\"5\" valign=\"top\">train</th>\n",
       "      <th>0</th>\n",
       "      <td>3</td>\n",
       "      <td>male</td>\n",
       "      <td>22.0</td>\n",
       "      <td>1</td>\n",
       "      <td>0</td>\n",
       "      <td>7.2500</td>\n",
       "      <td>NaN</td>\n",
       "      <td>S</td>\n",
       "    </tr>\n",
       "    <tr>\n",
       "      <th>1</th>\n",
       "      <td>1</td>\n",
       "      <td>female</td>\n",
       "      <td>38.0</td>\n",
       "      <td>1</td>\n",
       "      <td>0</td>\n",
       "      <td>71.2833</td>\n",
       "      <td>C85</td>\n",
       "      <td>C</td>\n",
       "    </tr>\n",
       "    <tr>\n",
       "      <th>2</th>\n",
       "      <td>3</td>\n",
       "      <td>female</td>\n",
       "      <td>26.0</td>\n",
       "      <td>0</td>\n",
       "      <td>0</td>\n",
       "      <td>7.9250</td>\n",
       "      <td>NaN</td>\n",
       "      <td>S</td>\n",
       "    </tr>\n",
       "    <tr>\n",
       "      <th>3</th>\n",
       "      <td>1</td>\n",
       "      <td>female</td>\n",
       "      <td>35.0</td>\n",
       "      <td>1</td>\n",
       "      <td>0</td>\n",
       "      <td>53.1000</td>\n",
       "      <td>C123</td>\n",
       "      <td>S</td>\n",
       "    </tr>\n",
       "    <tr>\n",
       "      <th>4</th>\n",
       "      <td>3</td>\n",
       "      <td>male</td>\n",
       "      <td>35.0</td>\n",
       "      <td>0</td>\n",
       "      <td>0</td>\n",
       "      <td>8.0500</td>\n",
       "      <td>NaN</td>\n",
       "      <td>S</td>\n",
       "    </tr>\n",
       "  </tbody>\n",
       "</table>\n",
       "</div>"
      ],
      "text/plain": [
       "               Pclass     Sex   Age  SibSp  Parch     Fare Cabin Embarked\n",
       "dataset index                                                            \n",
       "train   0           3    male  22.0      1      0   7.2500   NaN        S\n",
       "        1           1  female  38.0      1      0  71.2833   C85        C\n",
       "        2           3  female  26.0      0      0   7.9250   NaN        S\n",
       "        3           1  female  35.0      1      0  53.1000  C123        S\n",
       "        4           3    male  35.0      0      0   8.0500   NaN        S"
      ]
     },
     "execution_count": 11,
     "metadata": {},
     "output_type": "execute_result"
    }
   ],
   "source": [
    "train_test.drop(['PassengerId','Name', 'Ticket'], axis = 1, inplace = True)\n",
    "train_test.head()"
   ]
  },
  {
   "cell_type": "markdown",
   "metadata": {
    "_cell_guid": "a615d42b-17b7-4e20-a95e-9aac77f00095",
    "_uuid": "67d08f98d7d0e352c177a16951390e6da6c10b78"
   },
   "source": [
    "Let us check how many missing data each feature has:"
   ]
  },
  {
   "cell_type": "code",
   "execution_count": 12,
   "metadata": {
    "_cell_guid": "e52325af-c113-4178-b377-d6f87be802eb",
    "_uuid": "40d0e0300fed78e364a906011c986d407cb1430f"
   },
   "outputs": [
    {
     "data": {
      "text/plain": [
       "Pclass         0\n",
       "Sex            0\n",
       "Age          263\n",
       "SibSp          0\n",
       "Parch          0\n",
       "Fare           1\n",
       "Cabin       1014\n",
       "Embarked       2\n",
       "dtype: int64"
      ]
     },
     "execution_count": 12,
     "metadata": {},
     "output_type": "execute_result"
    }
   ],
   "source": [
    "train_test.isnull().sum()"
   ]
  },
  {
   "cell_type": "markdown",
   "metadata": {
    "_cell_guid": "6ee85e5d-d183-4462-a7ac-ab5ed933306f",
    "_uuid": "a1db38fb3c913d6814e709bf98a6e7feb1a5696b"
   },
   "source": [
    "We see that **Cabin** has many (> 75%) missing data. So, it will be dropped. **Age** and **Fare** are numeric features, and thus the missing data can be replaced with some average of the avilable data for the respective features. Lastly, **Embarked** is a categorical feature, and thus the missing data will be replaced with the most frequent level. "
   ]
  },
  {
   "cell_type": "code",
   "execution_count": 13,
   "metadata": {
    "_cell_guid": "688bead1-6d36-4e6b-8a6b-de67bf28ece6",
    "_uuid": "3eb9f42b1dc6da874a04302acee0fe08cab85732"
   },
   "outputs": [],
   "source": [
    "train_test.drop(['Cabin'], axis = 1, inplace = True)"
   ]
  },
  {
   "cell_type": "code",
   "execution_count": 14,
   "metadata": {
    "_cell_guid": "7c6fd49c-48b7-434d-8d80-1aab03be0acc",
    "_uuid": "5052a5110dd9092719d9a4527d10febae2ef0f2a"
   },
   "outputs": [
    {
     "data": {
      "text/html": [
       "<div>\n",
       "<style>\n",
       "    .dataframe thead tr:only-child th {\n",
       "        text-align: right;\n",
       "    }\n",
       "\n",
       "    .dataframe thead th {\n",
       "        text-align: left;\n",
       "    }\n",
       "\n",
       "    .dataframe tbody tr th {\n",
       "        vertical-align: top;\n",
       "    }\n",
       "</style>\n",
       "<table border=\"1\" class=\"dataframe\">\n",
       "  <thead>\n",
       "    <tr style=\"text-align: right;\">\n",
       "      <th></th>\n",
       "      <th></th>\n",
       "      <th>count</th>\n",
       "      <th>mean</th>\n",
       "      <th>std</th>\n",
       "      <th>min</th>\n",
       "      <th>25%</th>\n",
       "      <th>50%</th>\n",
       "      <th>75%</th>\n",
       "      <th>max</th>\n",
       "    </tr>\n",
       "    <tr>\n",
       "      <th>Sex</th>\n",
       "      <th>Pclass</th>\n",
       "      <th></th>\n",
       "      <th></th>\n",
       "      <th></th>\n",
       "      <th></th>\n",
       "      <th></th>\n",
       "      <th></th>\n",
       "      <th></th>\n",
       "      <th></th>\n",
       "    </tr>\n",
       "  </thead>\n",
       "  <tbody>\n",
       "    <tr>\n",
       "      <th rowspan=\"3\" valign=\"top\">female</th>\n",
       "      <th>1</th>\n",
       "      <td>85.0</td>\n",
       "      <td>34.611765</td>\n",
       "      <td>13.612052</td>\n",
       "      <td>2.00</td>\n",
       "      <td>23.000</td>\n",
       "      <td>35.0</td>\n",
       "      <td>44.00</td>\n",
       "      <td>63.0</td>\n",
       "    </tr>\n",
       "    <tr>\n",
       "      <th>2</th>\n",
       "      <td>74.0</td>\n",
       "      <td>28.722973</td>\n",
       "      <td>12.872702</td>\n",
       "      <td>2.00</td>\n",
       "      <td>22.250</td>\n",
       "      <td>28.0</td>\n",
       "      <td>36.00</td>\n",
       "      <td>57.0</td>\n",
       "    </tr>\n",
       "    <tr>\n",
       "      <th>3</th>\n",
       "      <td>102.0</td>\n",
       "      <td>21.750000</td>\n",
       "      <td>12.729964</td>\n",
       "      <td>0.75</td>\n",
       "      <td>14.125</td>\n",
       "      <td>21.5</td>\n",
       "      <td>29.75</td>\n",
       "      <td>63.0</td>\n",
       "    </tr>\n",
       "    <tr>\n",
       "      <th rowspan=\"3\" valign=\"top\">male</th>\n",
       "      <th>1</th>\n",
       "      <td>101.0</td>\n",
       "      <td>41.281386</td>\n",
       "      <td>15.139570</td>\n",
       "      <td>0.92</td>\n",
       "      <td>30.000</td>\n",
       "      <td>40.0</td>\n",
       "      <td>51.00</td>\n",
       "      <td>80.0</td>\n",
       "    </tr>\n",
       "    <tr>\n",
       "      <th>2</th>\n",
       "      <td>99.0</td>\n",
       "      <td>30.740707</td>\n",
       "      <td>14.793894</td>\n",
       "      <td>0.67</td>\n",
       "      <td>23.000</td>\n",
       "      <td>30.0</td>\n",
       "      <td>36.75</td>\n",
       "      <td>70.0</td>\n",
       "    </tr>\n",
       "    <tr>\n",
       "      <th>3</th>\n",
       "      <td>253.0</td>\n",
       "      <td>26.507589</td>\n",
       "      <td>12.159514</td>\n",
       "      <td>0.42</td>\n",
       "      <td>20.000</td>\n",
       "      <td>25.0</td>\n",
       "      <td>33.00</td>\n",
       "      <td>74.0</td>\n",
       "    </tr>\n",
       "  </tbody>\n",
       "</table>\n",
       "</div>"
      ],
      "text/plain": [
       "               count       mean        std   min     25%   50%    75%   max\n",
       "Sex    Pclass                                                              \n",
       "female 1        85.0  34.611765  13.612052  2.00  23.000  35.0  44.00  63.0\n",
       "       2        74.0  28.722973  12.872702  2.00  22.250  28.0  36.00  57.0\n",
       "       3       102.0  21.750000  12.729964  0.75  14.125  21.5  29.75  63.0\n",
       "male   1       101.0  41.281386  15.139570  0.92  30.000  40.0  51.00  80.0\n",
       "       2        99.0  30.740707  14.793894  0.67  23.000  30.0  36.75  70.0\n",
       "       3       253.0  26.507589  12.159514  0.42  20.000  25.0  33.00  74.0"
      ]
     },
     "execution_count": 14,
     "metadata": {},
     "output_type": "execute_result"
    }
   ],
   "source": [
    "age_summary = train.groupby(by = ['Sex','Pclass'])['Age'].describe()\n",
    "age_summary"
   ]
  },
  {
   "cell_type": "markdown",
   "metadata": {
    "_cell_guid": "351db45f-ca4b-4726-a00d-3838c088747f",
    "_uuid": "7d64d2907774d9751b79c17ce5c717ad22adfdc5"
   },
   "source": [
    "From the above summary, it clear that the average ages of different genders and of different classes are different. So, we will go ahead and replace the missing data in the Age column based on the gender and class."
   ]
  },
  {
   "cell_type": "code",
   "execution_count": 15,
   "metadata": {
    "_cell_guid": "0dd5c196-e683-4d0a-8fe5-f1d833a72f5f",
    "_uuid": "a8452385fdae90897d76563c510757dd6783e7b5"
   },
   "outputs": [
    {
     "name": "stdout",
     "output_type": "stream",
     "text": [
      "               Pclass     Sex  Age  SibSp  Parch     Fare Embarked\n",
      "dataset index                                                     \n",
      "train   5           3    male  NaN      0      0   8.4583        Q\n",
      "        17          2    male  NaN      0      0  13.0000        S\n",
      "        19          3  female  NaN      0      0   7.2250        C\n",
      "        26          3    male  NaN      0      0   7.2250        C\n",
      "        28          3  female  NaN      0      0   7.8792        Q\n",
      "================================================================\n"
     ]
    }
   ],
   "source": [
    "where_age_is_null = train_test['Age'].isnull()\n",
    "age_missing_data = train_test[where_age_is_null]\n",
    "# age_df = train_test[~ where_age_is_null]\n",
    "\n",
    "#age_missing_data = pd.get_dummies(age_missing_data, columns = ['Sex', 'Embarked'], drop_first = True)\n",
    "# age_df = pd.get_dummies(age_df, columns = ['Sex', 'Embarked'], drop_first = True)\n",
    "\n",
    "print(age_missing_data.head())\n",
    "print(\"================================================================\")\n",
    "# print(age_df.head())\n",
    "\n",
    "# from sklearn.linear_model import LinearRegression\n",
    "# linear_regressor = LinearRegression()\n",
    "\n",
    "# linear_regressor.fit(age_df.drop('Age', axis = 1), age_df['Age'])\n",
    "# age_missing_data['Age'] = linear_regressor.predict(age_missing_data.drop('Age', axis = 1))\n",
    "\n",
    "# print(age_missing_data.head())\n",
    "# print(\"================================================================\")\n",
    "# print(age_df.head())"
   ]
  },
  {
   "cell_type": "code",
   "execution_count": 16,
   "metadata": {
    "_cell_guid": "a3f94405-d9d5-48f7-bd29-b9b8e9e351fb",
    "_uuid": "737913e8dae0b0a90daab3d40a58a232863ccad3"
   },
   "outputs": [
    {
     "data": {
      "text/html": [
       "<div>\n",
       "<style>\n",
       "    .dataframe thead tr:only-child th {\n",
       "        text-align: right;\n",
       "    }\n",
       "\n",
       "    .dataframe thead th {\n",
       "        text-align: left;\n",
       "    }\n",
       "\n",
       "    .dataframe tbody tr th {\n",
       "        vertical-align: top;\n",
       "    }\n",
       "</style>\n",
       "<table border=\"1\" class=\"dataframe\">\n",
       "  <thead>\n",
       "    <tr style=\"text-align: right;\">\n",
       "      <th></th>\n",
       "      <th></th>\n",
       "      <th>Pclass</th>\n",
       "      <th>Sex</th>\n",
       "      <th>Age</th>\n",
       "      <th>SibSp</th>\n",
       "      <th>Parch</th>\n",
       "      <th>Fare</th>\n",
       "      <th>Embarked</th>\n",
       "    </tr>\n",
       "    <tr>\n",
       "      <th>dataset</th>\n",
       "      <th>index</th>\n",
       "      <th></th>\n",
       "      <th></th>\n",
       "      <th></th>\n",
       "      <th></th>\n",
       "      <th></th>\n",
       "      <th></th>\n",
       "      <th></th>\n",
       "    </tr>\n",
       "  </thead>\n",
       "  <tbody>\n",
       "    <tr>\n",
       "      <th rowspan=\"5\" valign=\"top\">train</th>\n",
       "      <th>5</th>\n",
       "      <td>3</td>\n",
       "      <td>male</td>\n",
       "      <td>27.0</td>\n",
       "      <td>0</td>\n",
       "      <td>0</td>\n",
       "      <td>8.4583</td>\n",
       "      <td>Q</td>\n",
       "    </tr>\n",
       "    <tr>\n",
       "      <th>17</th>\n",
       "      <td>2</td>\n",
       "      <td>male</td>\n",
       "      <td>31.0</td>\n",
       "      <td>0</td>\n",
       "      <td>0</td>\n",
       "      <td>13.0000</td>\n",
       "      <td>S</td>\n",
       "    </tr>\n",
       "    <tr>\n",
       "      <th>19</th>\n",
       "      <td>3</td>\n",
       "      <td>female</td>\n",
       "      <td>22.0</td>\n",
       "      <td>0</td>\n",
       "      <td>0</td>\n",
       "      <td>7.2250</td>\n",
       "      <td>C</td>\n",
       "    </tr>\n",
       "    <tr>\n",
       "      <th>26</th>\n",
       "      <td>3</td>\n",
       "      <td>male</td>\n",
       "      <td>27.0</td>\n",
       "      <td>0</td>\n",
       "      <td>0</td>\n",
       "      <td>7.2250</td>\n",
       "      <td>C</td>\n",
       "    </tr>\n",
       "    <tr>\n",
       "      <th>28</th>\n",
       "      <td>3</td>\n",
       "      <td>female</td>\n",
       "      <td>22.0</td>\n",
       "      <td>0</td>\n",
       "      <td>0</td>\n",
       "      <td>7.8792</td>\n",
       "      <td>Q</td>\n",
       "    </tr>\n",
       "  </tbody>\n",
       "</table>\n",
       "</div>"
      ],
      "text/plain": [
       "               Pclass     Sex   Age  SibSp  Parch     Fare Embarked\n",
       "dataset index                                                      \n",
       "train   5           3    male  27.0      0      0   8.4583        Q\n",
       "        17          2    male  31.0      0      0  13.0000        S\n",
       "        19          3  female  22.0      0      0   7.2250        C\n",
       "        26          3    male  27.0      0      0   7.2250        C\n",
       "        28          3  female  22.0      0      0   7.8792        Q"
      ]
     },
     "execution_count": 16,
     "metadata": {},
     "output_type": "execute_result"
    }
   ],
   "source": [
    "fill_age = []\n",
    "for index, row in age_missing_data.iterrows():\n",
    "    fill_age.append(round(age_summary.xs([row['Sex'], row['Pclass']])['mean'],0))\n",
    "\n",
    "train_test.loc[where_age_is_null, 'Age'] = fill_age#This contains the mean value of age based on gender and class for each missing data in age\n",
    "train_test[where_age_is_null].head()"
   ]
  },
  {
   "cell_type": "code",
   "execution_count": 17,
   "metadata": {
    "_cell_guid": "5ef0f6fd-e6bd-43ac-a9a6-5d2967f6a745",
    "_uuid": "165bdbbe49d19d7fbd37a6d2a20f27b829f6fb1e"
   },
   "outputs": [
    {
     "data": {
      "text/plain": [
       "Pclass      0\n",
       "Sex         0\n",
       "Age         0\n",
       "SibSp       0\n",
       "Parch       0\n",
       "Fare        1\n",
       "Embarked    2\n",
       "dtype: int64"
      ]
     },
     "execution_count": 17,
     "metadata": {},
     "output_type": "execute_result"
    }
   ],
   "source": [
    "train_test.isnull().sum()"
   ]
  },
  {
   "cell_type": "code",
   "execution_count": 18,
   "metadata": {
    "_cell_guid": "49ea7736-da4e-4326-a87e-7190350ab367",
    "_uuid": "6e50b6a9c8c73ba40cf61fd0686b590b2bce8cb7"
   },
   "outputs": [
    {
     "data": {
      "text/plain": [
       "count     1307\n",
       "unique       3\n",
       "top          S\n",
       "freq       914\n",
       "Name: Embarked, dtype: object"
      ]
     },
     "execution_count": 18,
     "metadata": {},
     "output_type": "execute_result"
    }
   ],
   "source": [
    "train_test['Embarked'].describe()"
   ]
  },
  {
   "cell_type": "markdown",
   "metadata": {
    "_cell_guid": "7829c257-f752-4d1f-a516-1a2ac96d72cd",
    "_uuid": "5967293af7e6755220c05013eda0b74d77bd0f94"
   },
   "source": [
    "From the above summary of the **Embarked** feature, the most frequent level is 'S' (it occured 914 times out of the available 1307 information for the Embarked feature, with a fraction of 914/1307 = 0.70). The count of all  levels can be found as following:"
   ]
  },
  {
   "cell_type": "code",
   "execution_count": 19,
   "metadata": {
    "_cell_guid": "01e8f050-3445-4016-802b-c52308f11d2d",
    "_uuid": "ed0cf6170c346f028e5803452a1502e1b8d297d5"
   },
   "outputs": [
    {
     "data": {
      "text/plain": [
       "S    914\n",
       "C    270\n",
       "Q    123\n",
       "Name: Embarked, dtype: int64"
      ]
     },
     "execution_count": 19,
     "metadata": {},
     "output_type": "execute_result"
    }
   ],
   "source": [
    "train_test['Embarked'].value_counts()"
   ]
  },
  {
   "cell_type": "markdown",
   "metadata": {
    "_cell_guid": "c8f7e492-6794-45b8-a2a7-21182cc134bc",
    "_uuid": "b8ce475554ffc21adc3c82b438a55fef3d9b6baa"
   },
   "source": [
    "The other two levels for the **Embarked** feature are 'C' and 'Q', with 270 and 123 occurences, respectively. Based on the above information, we can fill the missing data in the **Embarked** feature by the most frequent level, namely, 'S'. "
   ]
  },
  {
   "cell_type": "code",
   "execution_count": 20,
   "metadata": {
    "_cell_guid": "14034886-d68f-4655-b0e2-8209bf5852e6",
    "_uuid": "804999776d5675fd57c57f54fa2b96f8a8ab786f"
   },
   "outputs": [],
   "source": [
    "train_test['Embarked'] = train_test['Embarked'].fillna('S')"
   ]
  },
  {
   "cell_type": "markdown",
   "metadata": {
    "_cell_guid": "fc25e70d-d3dd-4af1-b158-1a99c15d0919",
    "_uuid": "44296518107c4ae4cbd949ebff9d827a4148f09a"
   },
   "source": [
    "Now, let's address the remaining feature that has missing data, namely, the **Fare** feature. "
   ]
  },
  {
   "cell_type": "code",
   "execution_count": 21,
   "metadata": {
    "_cell_guid": "fc452ca6-cd44-4a26-aba4-6f95157ddf6c",
    "_uuid": "a897e7712d9ef64df7e5c5492f0fab0b46a94d58"
   },
   "outputs": [],
   "source": [
    "train_test['Fare'] = train_test['Fare'].fillna(train_test['Fare'].mean())"
   ]
  },
  {
   "cell_type": "code",
   "execution_count": 22,
   "metadata": {
    "_cell_guid": "2f63bdd4-de8c-44f2-b5c8-9bd22354be2a",
    "_uuid": "ab41b02129a8485ab803acde6209543b63c3bdda"
   },
   "outputs": [
    {
     "data": {
      "text/plain": [
       "Pclass      0\n",
       "Sex         0\n",
       "Age         0\n",
       "SibSp       0\n",
       "Parch       0\n",
       "Fare        0\n",
       "Embarked    0\n",
       "dtype: int64"
      ]
     },
     "execution_count": 22,
     "metadata": {},
     "output_type": "execute_result"
    }
   ],
   "source": [
    "train_test.isnull().sum()"
   ]
  },
  {
   "cell_type": "markdown",
   "metadata": {
    "_cell_guid": "a4763011-e478-4c36-9fc3-40d938247ac5",
    "_uuid": "c0aca81eee9f3fac7418906022cd751353083971"
   },
   "source": [
    "Now our data looks clean in the sense that there is no more missing data. Next, we wll move forward to explore our data using exploratory data analysis (EDA)."
   ]
  },
  {
   "cell_type": "code",
   "execution_count": 23,
   "metadata": {
    "_cell_guid": "5fe6ab7d-f756-43a6-ac61-f89e3683addd",
    "_uuid": "62935509f664d0a6129407ee7dfdfbef97671d88"
   },
   "outputs": [],
   "source": [
    "# where_age_is_null = train_test['Age'].isnull()\n",
    "# age_missing_data = train_test[where_age_is_null]\n",
    "# age_df = train_test[~ where_age_is_null]\n",
    "\n",
    "# age_missing_data = pd.get_dummies(age_missing_data, columns = ['Sex', 'Embarked'], drop_first = True)\n",
    "# age_df = pd.get_dummies(age_df, columns = ['Sex', 'Embarked'], drop_first = True)\n",
    "\n",
    "# print(age_missing_data.head())\n",
    "# print(\"================================================================\")\n",
    "# print(age_df.head())\n",
    "\n"
   ]
  },
  {
   "cell_type": "code",
   "execution_count": 24,
   "metadata": {
    "_cell_guid": "94ac1e25-3d88-4ab1-8da3-f8596997e693",
    "_uuid": "7823ab1683844effeb12e101385a51f693f3aa92"
   },
   "outputs": [],
   "source": [
    "# from sklearn.linear_model import LinearRegression\n",
    "# linear_regressor = LinearRegression()\n",
    "\n",
    "# linear_regressor.fit(age_df.drop('Age', axis = 1), age_df['Age'])\n",
    "# age_missing_data['Age'] = linear_regressor.predict(age_missing_data.drop('Age', axis = 1))\n",
    "\n",
    "# age_missing_data['Age'] = age_missing_data['Age'].apply(lambda x: round(x, 2))\n",
    "\n",
    "# train_test.loc[where_age_is_null, 'Age'] = age_missing_data['Age']\n",
    "\n",
    "# print(age_missing_data.head())\n",
    "# print(\"================================================================\")\n",
    "# print(age_df.head())"
   ]
  },
  {
   "cell_type": "markdown",
   "metadata": {
    "_cell_guid": "1ebc5b07-ae6a-41f7-ba9b-db5422728359",
    "_uuid": "0723884ba21ec43966a2796f598fbf61de7a42da"
   },
   "source": [
    "# 3. EDA Analysis:"
   ]
  },
  {
   "cell_type": "markdown",
   "metadata": {
    "_cell_guid": "e622fdc3-2a33-4385-a16a-cce68431513b",
    "_uuid": "a51a0be055e8898ab1c3f672af941a650ff96036",
    "collapsed": true
   },
   "source": [
    "Now, let's us do some exploratory data analysis. Before we  do that, let's split the data again to training and testing datasets."
   ]
  },
  {
   "cell_type": "code",
   "execution_count": 25,
   "metadata": {
    "_cell_guid": "f520e33b-f5f3-4732-b45a-f1ef096ec9aa",
    "_uuid": "98cbeab5058b2725f273fbd1102811615792aec0"
   },
   "outputs": [],
   "source": [
    "train = train_test.loc['train']\n",
    "test = train_test.loc['test']"
   ]
  },
  {
   "cell_type": "markdown",
   "metadata": {
    "_cell_guid": "915aded3-687b-4a96-acce-77398fbf3cc4",
    "_uuid": "4b1361a84e63f48d690b24a70f489f8bf909d3e7"
   },
   "source": [
    "To do analysis related to the survival status, let's us append the Survived column again to the traning dataset."
   ]
  },
  {
   "cell_type": "code",
   "execution_count": 26,
   "metadata": {
    "_cell_guid": "0614242c-27e1-40c4-a288-eb409aaaaa28",
    "_uuid": "41eeea6b6e66b5c48f6d79c32b57140c85ab0719"
   },
   "outputs": [
    {
     "name": "stderr",
     "output_type": "stream",
     "text": [
      "C:\\Anacoda\\lib\\site-packages\\ipykernel_launcher.py:1: SettingWithCopyWarning: \n",
      "A value is trying to be set on a copy of a slice from a DataFrame.\n",
      "Try using .loc[row_indexer,col_indexer] = value instead\n",
      "\n",
      "See the caveats in the documentation: http://pandas.pydata.org/pandas-docs/stable/indexing.html#indexing-view-versus-copy\n",
      "  \"\"\"Entry point for launching an IPython kernel.\n"
     ]
    },
    {
     "data": {
      "text/html": [
       "<div>\n",
       "<style>\n",
       "    .dataframe thead tr:only-child th {\n",
       "        text-align: right;\n",
       "    }\n",
       "\n",
       "    .dataframe thead th {\n",
       "        text-align: left;\n",
       "    }\n",
       "\n",
       "    .dataframe tbody tr th {\n",
       "        vertical-align: top;\n",
       "    }\n",
       "</style>\n",
       "<table border=\"1\" class=\"dataframe\">\n",
       "  <thead>\n",
       "    <tr style=\"text-align: right;\">\n",
       "      <th></th>\n",
       "      <th>Pclass</th>\n",
       "      <th>Sex</th>\n",
       "      <th>Age</th>\n",
       "      <th>SibSp</th>\n",
       "      <th>Parch</th>\n",
       "      <th>Fare</th>\n",
       "      <th>Embarked</th>\n",
       "      <th>Survived</th>\n",
       "    </tr>\n",
       "    <tr>\n",
       "      <th>index</th>\n",
       "      <th></th>\n",
       "      <th></th>\n",
       "      <th></th>\n",
       "      <th></th>\n",
       "      <th></th>\n",
       "      <th></th>\n",
       "      <th></th>\n",
       "      <th></th>\n",
       "    </tr>\n",
       "  </thead>\n",
       "  <tbody>\n",
       "    <tr>\n",
       "      <th>0</th>\n",
       "      <td>3</td>\n",
       "      <td>male</td>\n",
       "      <td>22.0</td>\n",
       "      <td>1</td>\n",
       "      <td>0</td>\n",
       "      <td>7.2500</td>\n",
       "      <td>S</td>\n",
       "      <td>0</td>\n",
       "    </tr>\n",
       "    <tr>\n",
       "      <th>1</th>\n",
       "      <td>1</td>\n",
       "      <td>female</td>\n",
       "      <td>38.0</td>\n",
       "      <td>1</td>\n",
       "      <td>0</td>\n",
       "      <td>71.2833</td>\n",
       "      <td>C</td>\n",
       "      <td>1</td>\n",
       "    </tr>\n",
       "    <tr>\n",
       "      <th>2</th>\n",
       "      <td>3</td>\n",
       "      <td>female</td>\n",
       "      <td>26.0</td>\n",
       "      <td>0</td>\n",
       "      <td>0</td>\n",
       "      <td>7.9250</td>\n",
       "      <td>S</td>\n",
       "      <td>1</td>\n",
       "    </tr>\n",
       "    <tr>\n",
       "      <th>3</th>\n",
       "      <td>1</td>\n",
       "      <td>female</td>\n",
       "      <td>35.0</td>\n",
       "      <td>1</td>\n",
       "      <td>0</td>\n",
       "      <td>53.1000</td>\n",
       "      <td>S</td>\n",
       "      <td>1</td>\n",
       "    </tr>\n",
       "    <tr>\n",
       "      <th>4</th>\n",
       "      <td>3</td>\n",
       "      <td>male</td>\n",
       "      <td>35.0</td>\n",
       "      <td>0</td>\n",
       "      <td>0</td>\n",
       "      <td>8.0500</td>\n",
       "      <td>S</td>\n",
       "      <td>0</td>\n",
       "    </tr>\n",
       "  </tbody>\n",
       "</table>\n",
       "</div>"
      ],
      "text/plain": [
       "       Pclass     Sex   Age  SibSp  Parch     Fare Embarked  Survived\n",
       "index                                                                \n",
       "0           3    male  22.0      1      0   7.2500        S         0\n",
       "1           1  female  38.0      1      0  71.2833        C         1\n",
       "2           3  female  26.0      0      0   7.9250        S         1\n",
       "3           1  female  35.0      1      0  53.1000        S         1\n",
       "4           3    male  35.0      0      0   8.0500        S         0"
      ]
     },
     "execution_count": 26,
     "metadata": {},
     "output_type": "execute_result"
    }
   ],
   "source": [
    "train['Survived'] = survived\n",
    "train.head()"
   ]
  },
  {
   "cell_type": "code",
   "execution_count": 27,
   "metadata": {
    "_cell_guid": "d05753ad-ccbe-44d1-a112-00071b4f2f50",
    "_uuid": "ea7084267871f18a9f2d22de257a25ac920799e2"
   },
   "outputs": [
    {
     "data": {
      "text/plain": [
       "(891, 8)"
      ]
     },
     "execution_count": 27,
     "metadata": {},
     "output_type": "execute_result"
    }
   ],
   "source": [
    "train.shape"
   ]
  },
  {
   "cell_type": "markdown",
   "metadata": {
    "_cell_guid": "1f97b394-7866-4937-9659-197aec8fb03b",
    "_uuid": "0acf6c9e042fbb33660fd913a0dbaef78e91867b"
   },
   "source": [
    "First, let's examine the average survival rate as a percentage."
   ]
  },
  {
   "cell_type": "code",
   "execution_count": 28,
   "metadata": {
    "_cell_guid": "aea140a1-b575-4001-ad1d-58e6d7281bc7",
    "_uuid": "003254b2296c86c0825c3da201c3f4065fe4683d"
   },
   "outputs": [
    {
     "data": {
      "text/plain": [
       "0.3838383838383838"
      ]
     },
     "execution_count": 28,
     "metadata": {},
     "output_type": "execute_result"
    }
   ],
   "source": [
    "train['Survived'].mean()"
   ]
  },
  {
   "cell_type": "markdown",
   "metadata": {
    "_cell_guid": "7f95260c-6485-4619-a952-6776a788573a",
    "_uuid": "e24a86803f1316297e3578d567a186dfb50efe88"
   },
   "source": [
    "Our training data shows that around 38.4% of the passengers survived the Titanic disaster, or that around 61.6% died in the accident. In reality, 68% were lost in the disaster. So, we can say that the dataset here is representative. The discrepency is due to the fact the training set is a sample of the people who were on the boat. This 61.6% translates into 549 people who would have died in the distater, had the sample in the traning dataset been on the ship (see the following plot)."
   ]
  },
  {
   "cell_type": "code",
   "execution_count": 29,
   "metadata": {
    "_cell_guid": "27e1ad62-6af8-4502-99a5-5a7dacd7c581",
    "_uuid": "d189c00ce64bb1d26aa77e01a46c307f57455093"
   },
   "outputs": [],
   "source": [
    "import seaborn as sns\n",
    "import matplotlib.pyplot as plt\n",
    "%matplotlib inline"
   ]
  },
  {
   "cell_type": "code",
   "execution_count": 30,
   "metadata": {
    "_cell_guid": "eb6de9d7-f7b5-4d21-bed7-a69f9a1535c3",
    "_uuid": "ca26f81f7d677234c7e45db6ab405b2431bb5ce8"
   },
   "outputs": [
    {
     "data": {
      "image/png": "[encoded data removed]",
      "text/plain": [
       "<matplotlib.figure.Figure at 0xc0fb278>"
      ]
     },
     "metadata": {},
     "output_type": "display_data"
    }
   ],
   "source": [
    "plt.figure(figsize = (12, 6))\n",
    "g = sns.countplot(x = 'Survived', data = train)\n",
    "for p in g.patches:\n",
    "        g.annotate(\"%d\" % p.get_height(), (p.get_x() + p.get_width() / 2., p.get_height()),\n",
    "             ha='center', va='center', xytext=(0, 8), textcoords='offset points')"
   ]
  },
  {
   "cell_type": "markdown",
   "metadata": {
    "_cell_guid": "98778d96-dbce-4c79-84a6-fede479390f1",
    "_uuid": "d16717ae2f84f5edf86105b9cf5e07d3fe055066"
   },
   "source": [
    "# 3.1 Categorical Features:\n",
    "## 3.1.1 Sex:"
   ]
  },
  {
   "cell_type": "markdown",
   "metadata": {
    "_cell_guid": "f7f8e84e-ab95-4693-9620-72e05d1a174a",
    "_uuid": "6702dd92a875003d83d654bafc953b056dcd0341"
   },
   "source": [
    "Let's start with the **Sex** feature. From the following plot, we can see  that the gender of the passenger had a significant effect on the survival rate, where about $(468/549) \\simeq  85\\%$ of the passengers who were lost were men, while only $(109/342) \\simeq 32\\%$ who survived were men."
   ]
  },
  {
   "cell_type": "code",
   "execution_count": 31,
   "metadata": {
    "_cell_guid": "843dacff-b89c-473c-82ec-bacc2320b079",
    "_uuid": "cd77bc46d59254ee7b596de1e8cc3cbc063f10d7"
   },
   "outputs": [
    {
     "data": {
      "image/png": "[encoded data removed]",
      "text/plain": [
       "<matplotlib.figure.Figure at 0xc13c240>"
      ]
     },
     "metadata": {},
     "output_type": "display_data"
    }
   ],
   "source": [
    "plt.figure(figsize = (12, 6))\n",
    "g = sns.countplot(x = 'Survived', data = train, hue = 'Sex')\n",
    "for p in g.patches:\n",
    "        g.annotate(\"%d\" % p.get_height(), (p.get_x() + p.get_width() / 2., p.get_height()),\n",
    "             ha='center', va='center', xytext=(0, 8), textcoords='offset points')"
   ]
  },
  {
   "cell_type": "markdown",
   "metadata": {
    "_cell_guid": "2202fcc9-63a6-4a6a-b256-d755c2a0a2c3",
    "_uuid": "78c45e9c09f8e0b8c1ee72301e51a090afa6c0c3"
   },
   "source": [
    "However, we need to consider the number of female passengers vs male passengers, and normalize the results relative to the total number of passengers for each gender for fair comparison. "
   ]
  },
  {
   "cell_type": "code",
   "execution_count": 32,
   "metadata": {
    "_cell_guid": "4020ee6a-c4a9-4cac-a08c-10482cb90e86",
    "_uuid": "3291ffac78b7836eca8bf8d6998237fa99c92147"
   },
   "outputs": [
    {
     "data": {
      "image/png": "[encoded data removed]",
      "text/plain": [
       "<matplotlib.figure.Figure at 0xc422198>"
      ]
     },
     "metadata": {},
     "output_type": "display_data"
    }
   ],
   "source": [
    "plt.figure(figsize = (12, 6))\n",
    "g = sns.countplot(x = 'Sex', data = train)\n",
    "for p in g.patches:\n",
    "        g.annotate(\"%d\" % p.get_height(), (p.get_x() + p.get_width() / 2., p.get_height()),\n",
    "             ha='center', va='center', xytext=(0, 8), textcoords='offset points')"
   ]
  },
  {
   "cell_type": "markdown",
   "metadata": {
    "_cell_guid": "9b3ffbcb-d188-4aff-b565-729e0e84d49f",
    "_uuid": "fc4e3ae7a4cf30722a4f0de9c21845bd55179fd5"
   },
   "source": [
    "So, only $(314/891)\\simeq 35\\%$ of the passengers were females. Now we can normalize the numbers based on the total number of each gender, which results in\n",
    "\n",
    "* Percentage of males who were lost is $(468/577)\\simeq 81\\%$\n",
    "* Percentage of females who were lost is $(81/314)\\simeq 26\\%$\n",
    "\n",
    "We can compute these percentages by grouping the **Survived** response variable based on the **Sex** predictor column, and then take the mean value for each group. The following compute the percentage of males and females who were lost in the disaster."
   ]
  },
  {
   "cell_type": "code",
   "execution_count": 33,
   "metadata": {
    "_cell_guid": "815360a9-3641-4cd3-8ef2-14c50cbdd44e",
    "_uuid": "87e4dc66ebe93c64e95e00fca848d9faed899c35",
    "scrolled": true
   },
   "outputs": [
    {
     "data": {
      "text/plain": [
       "Sex\n",
       "female    0.257962\n",
       "male      0.811092\n",
       "Name: Survived, dtype: float64"
      ]
     },
     "execution_count": 33,
     "metadata": {},
     "output_type": "execute_result"
    }
   ],
   "source": [
    "1-train.groupby(by = 'Sex')['Survived'].mean()"
   ]
  },
  {
   "cell_type": "markdown",
   "metadata": {
    "_cell_guid": "a83ff6e5-f84b-4535-b792-4f18fc218c9e",
    "_uuid": "2d33c05b8600dfd436da5269b9a78fa7beab6b8e"
   },
   "source": [
    "So, we can conclude that, the percentage of males who were lost relative to the total number of males was about $3.1$ times higher than the percentage of females who were lost relative to the total number of females."
   ]
  },
  {
   "cell_type": "markdown",
   "metadata": {
    "_cell_guid": "b2702eae-1633-40e8-b37e-440dbabccf68",
    "_uuid": "b518ccc847fee99869898232f6ad6721c24158c9"
   },
   "source": [
    "## 3.1.2. Pclass:\n",
    "\n",
    "Now, let's examine the **Pclass** effect on the survival rate. First, let's see how many passengers were there in each class:"
   ]
  },
  {
   "cell_type": "code",
   "execution_count": 34,
   "metadata": {
    "_cell_guid": "dc12aa0a-9725-4098-b207-205858a6213e",
    "_uuid": "87a87fa3d4f190b43c7fe6007df1a14905a796bf"
   },
   "outputs": [
    {
     "data": {
      "image/png": "[encoded data removed]",
      "text/plain": [
       "<matplotlib.figure.Figure at 0xc15c518>"
      ]
     },
     "metadata": {},
     "output_type": "display_data"
    }
   ],
   "source": [
    "plt.figure(figsize = (12, 6))\n",
    "g = sns.countplot(x = 'Pclass', data = train)\n",
    "for p in g.patches:\n",
    "        g.annotate(\"%d\" % p.get_height(), (p.get_x() + p.get_width() / 2., p.get_height()),\n",
    "             ha='center', va='center', xytext=(0, 8), textcoords='offset points')"
   ]
  },
  {
   "cell_type": "markdown",
   "metadata": {
    "_cell_guid": "687a0548-a9be-42ac-8a57-54ac9ec3b3d8",
    "_uuid": "8bf39dcb50138fe841cd726384ab0905e5b6a7c3"
   },
   "source": [
    "We see that most passengers were in class 3. Now let's see how many passengers from each class were lost in the disaster:"
   ]
  },
  {
   "cell_type": "code",
   "execution_count": 35,
   "metadata": {
    "_cell_guid": "f8beb4df-1a76-4311-9f44-e1ed8b0a37f5",
    "_uuid": "5230984ae10a7c4356e4cbf4305e7996bf0d5b03"
   },
   "outputs": [
    {
     "data": {
      "image/png": "[encoded data removed]",
      "text/plain": [
       "<matplotlib.figure.Figure at 0xc5e6780>"
      ]
     },
     "metadata": {},
     "output_type": "display_data"
    }
   ],
   "source": [
    "plt.figure(figsize = (12, 6))\n",
    "g = sns.countplot(x = 'Survived', data = train, hue = 'Pclass')\n",
    "for p in g.patches:\n",
    "        g.annotate(\"%d\" % p.get_height(), (p.get_x() + p.get_width() / 2., p.get_height()),\n",
    "             ha='center', va='center', xytext=(0, 8), textcoords='offset points')"
   ]
  },
  {
   "cell_type": "markdown",
   "metadata": {
    "_cell_guid": "ee1aecb9-7c30-431e-b7a4-9ad6e6e80557",
    "_uuid": "c8de7fc720912056939cc694f5adff87dd67fcfe"
   },
   "source": [
    "As percentages, these numbers are translated into"
   ]
  },
  {
   "cell_type": "code",
   "execution_count": 36,
   "metadata": {
    "_cell_guid": "0e9d2a63-8e53-4677-8f99-06858203ca4d",
    "_uuid": "aec11e75de2880a61b0a4cbf124b61dfd7eb34e9"
   },
   "outputs": [
    {
     "data": {
      "text/plain": [
       "Pclass\n",
       "1    0.370370\n",
       "2    0.527174\n",
       "3    0.757637\n",
       "Name: Survived, dtype: float64"
      ]
     },
     "execution_count": 36,
     "metadata": {},
     "output_type": "execute_result"
    }
   ],
   "source": [
    "1 - train.groupby(by = 'Pclass')['Survived'].mean()"
   ]
  },
  {
   "cell_type": "markdown",
   "metadata": {
    "_cell_guid": "2c49645b-e294-43d0-9465-a4b7e6774e76",
    "_uuid": "2509134fe3da2dcb47ca60393b9b9b1e5e6649ac"
   },
   "source": [
    "We can see from the above plots and percentages that passengers who traveled on class 3 were more likely to die with a probability of 0.757, followed by the second class with probability 0.527. People who traveled in class 1 were the least probable people to die with probability 0.37."
   ]
  },
  {
   "cell_type": "markdown",
   "metadata": {
    "_cell_guid": "8e3b5f05-c0a1-43e9-ac4c-fac11118e037",
    "_uuid": "b6ff60c32357af31f46c89c48dd23e7ef418bd2c"
   },
   "source": [
    "# 3.1.3 Embarked"
   ]
  },
  {
   "cell_type": "markdown",
   "metadata": {
    "_cell_guid": "e2ee9a8e-9481-46b6-8cbf-a37b1318ad1f",
    "_uuid": "76b5303eeaefea64a1fed4eefbca7b450fa363d1"
   },
   "source": [
    "Let us see the Embarked feature."
   ]
  },
  {
   "cell_type": "code",
   "execution_count": 37,
   "metadata": {
    "_cell_guid": "b24ba6f9-db86-4ace-9112-f16df90148c6",
    "_uuid": "df466110d2f6cf43ea416afc41c27985e140cc07"
   },
   "outputs": [
    {
     "data": {
      "image/png": "[encoded data removed]",
      "text/plain": [
       "<matplotlib.figure.Figure at 0xc5fb160>"
      ]
     },
     "metadata": {},
     "output_type": "display_data"
    }
   ],
   "source": [
    "plt.figure(figsize = (12, 6))\n",
    "g = sns.countplot(x = 'Survived', data = train, hue = 'Embarked')\n",
    "for p in g.patches:\n",
    "        g.annotate(\"%d\" % p.get_height(), (p.get_x() + p.get_width() / 2., p.get_height()),\n",
    "             ha='center', va='center', xytext=(0, 8), textcoords='offset points')"
   ]
  },
  {
   "cell_type": "markdown",
   "metadata": {
    "_cell_guid": "8120d9a2-61b3-4405-8a8d-a211cf601d18",
    "_uuid": "6023f4b8bdf168622d669cae37e2fb1facd783da"
   },
   "source": [
    "What is the number of passenger from each value of Emarked?"
   ]
  },
  {
   "cell_type": "code",
   "execution_count": 38,
   "metadata": {
    "_cell_guid": "9adaefe2-de42-41eb-96d1-79775c5b6f1d",
    "_uuid": "cebe37d4be4b8372c3e65993c825098482841098"
   },
   "outputs": [
    {
     "data": {
      "image/png": "[encoded data removed]",
      "text/plain": [
       "<matplotlib.figure.Figure at 0xc79c6a0>"
      ]
     },
     "metadata": {},
     "output_type": "display_data"
    }
   ],
   "source": [
    "plt.figure(figsize = (12, 6))\n",
    "g = sns.countplot(x = 'Embarked', data = train)\n",
    "for p in g.patches:\n",
    "        g.annotate(\"%d\" % p.get_height(), (p.get_x() + p.get_width() / 2., p.get_height()),\n",
    "             ha='center', va='center', xytext=(0, 8), textcoords='offset points')"
   ]
  },
  {
   "cell_type": "markdown",
   "metadata": {
    "_cell_guid": "8d3ff74a-e9d5-4c91-8eae-64319fb0778f",
    "_uuid": "fea80c565a8a45531fa55b9c202264248acaa84a"
   },
   "source": [
    "S has the largest number of passengers. The percentages of passengers lost from each Emarked class are"
   ]
  },
  {
   "cell_type": "code",
   "execution_count": 39,
   "metadata": {
    "_cell_guid": "4f574a45-304c-4b18-8169-786441760e92",
    "_uuid": "d06c38fe9cb2854c318323ce01ca4592e275c790"
   },
   "outputs": [
    {
     "data": {
      "text/plain": [
       "Embarked\n",
       "C    0.446429\n",
       "Q    0.610390\n",
       "S    0.660991\n",
       "Name: Survived, dtype: float64"
      ]
     },
     "execution_count": 39,
     "metadata": {},
     "output_type": "execute_result"
    }
   ],
   "source": [
    "1 - train.groupby(by = 'Embarked')['Survived'].mean()"
   ]
  },
  {
   "cell_type": "markdown",
   "metadata": {
    "_cell_guid": "b4d600eb-0865-4acb-aaf8-2a3ac51642d4",
    "_uuid": "d33ed50b1da80b38c7341bddf6a0c6c2d662df90"
   },
   "source": [
    "How these numbers are distributed across the classes?"
   ]
  },
  {
   "cell_type": "code",
   "execution_count": 40,
   "metadata": {
    "_cell_guid": "8514395e-c619-4483-b4f0-78be05dd9f76",
    "_uuid": "63fc01b63f4e6b74fb10b3401ec6c77665f369f2"
   },
   "outputs": [
    {
     "data": {
      "image/png": "[encoded data removed]",
      "text/plain": [
       "<matplotlib.figure.Figure at 0xc78ff28>"
      ]
     },
     "metadata": {},
     "output_type": "display_data"
    }
   ],
   "source": [
    "plt.figure(figsize = (12, 6))\n",
    "g = sns.countplot(x = 'Embarked', data = train, hue = 'Pclass')\n",
    "for p in g.patches:\n",
    "        g.annotate(\"%d\" % p.get_height(), (p.get_x() + p.get_width() / 2., p.get_height()),\n",
    "             ha='center', va='center', xytext=(0, 8), textcoords='offset points')"
   ]
  },
  {
   "cell_type": "markdown",
   "metadata": {
    "_cell_guid": "71d3b46a-5ab6-4f99-8917-0f7399f4e37d",
    "_uuid": "a5d497b799942307e76cbc0e32b3b2de22007f61"
   },
   "source": [
    "We see that most passengers were embarked from port S, the majority of which were from class 3, which explains the high percentage of lost passengers from this point. The plot above also explains why the percentage of people lost from Embarked valus Q is greater than the percentage of people lost from Embarked value C, although the number of passengers from Embarked value C is greater. The reason is that almost all passengers (~93%) from Embarked value Q were of class 3. "
   ]
  },
  {
   "cell_type": "markdown",
   "metadata": {
    "_cell_guid": "8a7c130a-bf56-4ee1-9be0-65dbddfc6abc",
    "_uuid": "d8d06010587cee5ba92ce6830a636778e0dc97fc"
   },
   "source": [
    "What is the distribution of people who were embarked from different ports based on the gender?"
   ]
  },
  {
   "cell_type": "code",
   "execution_count": 41,
   "metadata": {
    "_cell_guid": "9dd42d76-9365-4e23-8050-2c2b22dcffaf",
    "_uuid": "b0cc4d1c03d2f708cc982a5f69492279313ffd29"
   },
   "outputs": [
    {
     "data": {
      "image/png": "[encoded data removed]",
      "text/plain": [
       "<matplotlib.figure.Figure at 0xcdd7518>"
      ]
     },
     "metadata": {},
     "output_type": "display_data"
    }
   ],
   "source": [
    "plt.figure(figsize = (12, 6))\n",
    "g = sns.countplot(x = 'Embarked', data = train, hue = 'Sex')\n",
    "for p in g.patches:\n",
    "        g.annotate(\"%d\" % p.get_height(), (p.get_x() + p.get_width() / 2., p.get_height()),\n",
    "             ha='center', va='center', xytext=(0, 8), textcoords='offset points')"
   ]
  },
  {
   "cell_type": "markdown",
   "metadata": {
    "_cell_guid": "1b24d6f3-23ea-442f-abc7-d919d60cb63b",
    "_uuid": "e6c723e8599f9bf3129d1dd3a98b9007c350b495"
   },
   "source": [
    "Now, let's us check the number of males and females of each class at each Embarked value as follows:"
   ]
  },
  {
   "cell_type": "code",
   "execution_count": 42,
   "metadata": {
    "_cell_guid": "c9a4f540-a7d9-4e90-935f-611a7734e301",
    "_kg_hide-input": false,
    "_uuid": "6fb3681d8e256e02104abc6fdee330832e5fd63b"
   },
   "outputs": [
    {
     "data": {
      "text/plain": [
       "<matplotlib.figure.Figure at 0xce25780>"
      ]
     },
     "metadata": {},
     "output_type": "display_data"
    },
    {
     "data": {
      "image/png": "[encoded data removed]",
      "text/plain": [
       "<matplotlib.figure.Figure at 0xcde2ef0>"
      ]
     },
     "metadata": {},
     "output_type": "display_data"
    }
   ],
   "source": [
    "plt.figure(figsize = (12, 6))\n",
    "g = sns.FacetGrid(train, col = 'Embarked', size = 5, aspect = 0.7)\n",
    "g = (g.map(sns.countplot, 'Pclass', hue = 'Sex', data = train, palette=\"Set1\")).add_legend()\n",
    "for ax in g.axes.ravel():\n",
    "    for p in ax.patches:\n",
    "        ax.annotate(\"%d\" % p.get_height(), (p.get_x() + p.get_width() / 2., p.get_height()),\n",
    "             ha='center', va='center', xytext=(0, 8), textcoords='offset points')\n",
    "    \n",
    "#sns.factorplot(x = 'Pclass', y = 'Survived', hue = 'Sex', data = train, kind = 'bar')"
   ]
  },
  {
   "cell_type": "markdown",
   "metadata": {
    "_cell_guid": "b97412cc-87f4-492f-91b5-5e8a28daacdf",
    "_uuid": "806456cdd37ceaad280a2b6cb2ddf12c7ffafa46"
   },
   "source": [
    "Of those numbers, how many did survive?"
   ]
  },
  {
   "cell_type": "code",
   "execution_count": 43,
   "metadata": {
    "_cell_guid": "53fe83ee-d5a7-4857-b558-fc3410a0abee",
    "_uuid": "b86d1f8908703f9e3c2e04ccd8473bae950eaf6a"
   },
   "outputs": [
    {
     "data": {
      "text/plain": [
       "<matplotlib.figure.Figure at 0xce250b8>"
      ]
     },
     "metadata": {},
     "output_type": "display_data"
    },
    {
     "data": {
      "image/png": "[encoded data removed]",
      "text/plain": [
       "<matplotlib.figure.Figure at 0xce61860>"
      ]
     },
     "metadata": {},
     "output_type": "display_data"
    }
   ],
   "source": [
    "plt.figure(figsize = (12, 6))\n",
    "g = sns.FacetGrid(train, row = 'Pclass', col = 'Embarked', size = 5, aspect = 0.7)\n",
    "g = (g.map(sns.countplot, 'Survived', hue = 'Sex', data = train, palette=\"Set1\")).add_legend()\n",
    "for ax in g.axes.ravel():\n",
    "    for p in ax.patches:\n",
    "        ax.annotate(\"%0.2f\" % p.get_height(), (p.get_x() + p.get_width() / 2., p.get_height()),\n",
    "             ha='center', va='center', xytext=(0, 8), textcoords='offset points')"
   ]
  },
  {
   "cell_type": "markdown",
   "metadata": {
    "_cell_guid": "048b33d4-8aa3-4f1d-b85c-a6bf419d40f8",
    "_uuid": "cce759d9104833909d53d2565e5b3838955632be"
   },
   "source": [
    "Let us check the percentage of people who were lost from each Embarked value, class, and gender."
   ]
  },
  {
   "cell_type": "code",
   "execution_count": 44,
   "metadata": {
    "_cell_guid": "c1a5b886-7044-4651-bfe1-d77e094445ff",
    "_uuid": "082557856489a30f88bc330439703d4595179e15"
   },
   "outputs": [
    {
     "data": {
      "text/html": [
       "<style  type=\"text/css\" >\n",
       "    #T_99cdb4a2_218e_11e8_a20a_30f9edaf9cc5row0_col0 {\n",
       "            text-align:  right;\n",
       "        }    #T_99cdb4a2_218e_11e8_a20a_30f9edaf9cc5row0_col1 {\n",
       "            text-align:  right;\n",
       "        }    #T_99cdb4a2_218e_11e8_a20a_30f9edaf9cc5row0_col2 {\n",
       "            text-align:  right;\n",
       "        }    #T_99cdb4a2_218e_11e8_a20a_30f9edaf9cc5row1_col0 {\n",
       "            text-align:  right;\n",
       "        }    #T_99cdb4a2_218e_11e8_a20a_30f9edaf9cc5row1_col1 {\n",
       "            text-align:  right;\n",
       "        }    #T_99cdb4a2_218e_11e8_a20a_30f9edaf9cc5row1_col2 {\n",
       "            text-align:  right;\n",
       "        }    #T_99cdb4a2_218e_11e8_a20a_30f9edaf9cc5row2_col0 {\n",
       "            text-align:  right;\n",
       "        }    #T_99cdb4a2_218e_11e8_a20a_30f9edaf9cc5row2_col1 {\n",
       "            text-align:  right;\n",
       "        }    #T_99cdb4a2_218e_11e8_a20a_30f9edaf9cc5row2_col2 {\n",
       "            text-align:  right;\n",
       "        }    #T_99cdb4a2_218e_11e8_a20a_30f9edaf9cc5row3_col0 {\n",
       "            text-align:  right;\n",
       "        }    #T_99cdb4a2_218e_11e8_a20a_30f9edaf9cc5row3_col1 {\n",
       "            text-align:  right;\n",
       "        }    #T_99cdb4a2_218e_11e8_a20a_30f9edaf9cc5row3_col2 {\n",
       "            text-align:  right;\n",
       "        }    #T_99cdb4a2_218e_11e8_a20a_30f9edaf9cc5row4_col0 {\n",
       "            text-align:  right;\n",
       "        }    #T_99cdb4a2_218e_11e8_a20a_30f9edaf9cc5row4_col1 {\n",
       "            text-align:  right;\n",
       "        }    #T_99cdb4a2_218e_11e8_a20a_30f9edaf9cc5row4_col2 {\n",
       "            text-align:  right;\n",
       "        }    #T_99cdb4a2_218e_11e8_a20a_30f9edaf9cc5row5_col0 {\n",
       "            text-align:  right;\n",
       "        }    #T_99cdb4a2_218e_11e8_a20a_30f9edaf9cc5row5_col1 {\n",
       "            text-align:  right;\n",
       "        }    #T_99cdb4a2_218e_11e8_a20a_30f9edaf9cc5row5_col2 {\n",
       "            text-align:  right;\n",
       "        }    #T_99cdb4a2_218e_11e8_a20a_30f9edaf9cc5row6_col0 {\n",
       "            text-align:  right;\n",
       "        }    #T_99cdb4a2_218e_11e8_a20a_30f9edaf9cc5row6_col1 {\n",
       "            text-align:  right;\n",
       "        }    #T_99cdb4a2_218e_11e8_a20a_30f9edaf9cc5row6_col2 {\n",
       "            text-align:  right;\n",
       "        }    #T_99cdb4a2_218e_11e8_a20a_30f9edaf9cc5row7_col0 {\n",
       "            text-align:  right;\n",
       "        }    #T_99cdb4a2_218e_11e8_a20a_30f9edaf9cc5row7_col1 {\n",
       "            text-align:  right;\n",
       "        }    #T_99cdb4a2_218e_11e8_a20a_30f9edaf9cc5row7_col2 {\n",
       "            text-align:  right;\n",
       "        }    #T_99cdb4a2_218e_11e8_a20a_30f9edaf9cc5row8_col0 {\n",
       "            text-align:  right;\n",
       "        }    #T_99cdb4a2_218e_11e8_a20a_30f9edaf9cc5row8_col1 {\n",
       "            text-align:  right;\n",
       "        }    #T_99cdb4a2_218e_11e8_a20a_30f9edaf9cc5row8_col2 {\n",
       "            text-align:  right;\n",
       "        }    #T_99cdb4a2_218e_11e8_a20a_30f9edaf9cc5row9_col0 {\n",
       "            text-align:  right;\n",
       "        }    #T_99cdb4a2_218e_11e8_a20a_30f9edaf9cc5row9_col1 {\n",
       "            text-align:  right;\n",
       "        }    #T_99cdb4a2_218e_11e8_a20a_30f9edaf9cc5row9_col2 {\n",
       "            text-align:  right;\n",
       "        }    #T_99cdb4a2_218e_11e8_a20a_30f9edaf9cc5row10_col0 {\n",
       "            text-align:  right;\n",
       "        }    #T_99cdb4a2_218e_11e8_a20a_30f9edaf9cc5row10_col1 {\n",
       "            text-align:  right;\n",
       "        }    #T_99cdb4a2_218e_11e8_a20a_30f9edaf9cc5row10_col2 {\n",
       "            text-align:  right;\n",
       "        }    #T_99cdb4a2_218e_11e8_a20a_30f9edaf9cc5row11_col0 {\n",
       "            text-align:  right;\n",
       "        }    #T_99cdb4a2_218e_11e8_a20a_30f9edaf9cc5row11_col1 {\n",
       "            text-align:  right;\n",
       "        }    #T_99cdb4a2_218e_11e8_a20a_30f9edaf9cc5row11_col2 {\n",
       "            text-align:  right;\n",
       "        }    #T_99cdb4a2_218e_11e8_a20a_30f9edaf9cc5row12_col0 {\n",
       "            text-align:  right;\n",
       "        }    #T_99cdb4a2_218e_11e8_a20a_30f9edaf9cc5row12_col1 {\n",
       "            text-align:  right;\n",
       "        }    #T_99cdb4a2_218e_11e8_a20a_30f9edaf9cc5row12_col2 {\n",
       "            text-align:  right;\n",
       "        }    #T_99cdb4a2_218e_11e8_a20a_30f9edaf9cc5row13_col0 {\n",
       "            text-align:  right;\n",
       "        }    #T_99cdb4a2_218e_11e8_a20a_30f9edaf9cc5row13_col1 {\n",
       "            text-align:  right;\n",
       "        }    #T_99cdb4a2_218e_11e8_a20a_30f9edaf9cc5row13_col2 {\n",
       "            text-align:  right;\n",
       "        }    #T_99cdb4a2_218e_11e8_a20a_30f9edaf9cc5row14_col0 {\n",
       "            text-align:  right;\n",
       "        }    #T_99cdb4a2_218e_11e8_a20a_30f9edaf9cc5row14_col1 {\n",
       "            text-align:  right;\n",
       "        }    #T_99cdb4a2_218e_11e8_a20a_30f9edaf9cc5row14_col2 {\n",
       "            text-align:  right;\n",
       "        }    #T_99cdb4a2_218e_11e8_a20a_30f9edaf9cc5row15_col0 {\n",
       "            text-align:  right;\n",
       "        }    #T_99cdb4a2_218e_11e8_a20a_30f9edaf9cc5row15_col1 {\n",
       "            text-align:  right;\n",
       "        }    #T_99cdb4a2_218e_11e8_a20a_30f9edaf9cc5row15_col2 {\n",
       "            text-align:  right;\n",
       "        }    #T_99cdb4a2_218e_11e8_a20a_30f9edaf9cc5row16_col0 {\n",
       "            text-align:  right;\n",
       "        }    #T_99cdb4a2_218e_11e8_a20a_30f9edaf9cc5row16_col1 {\n",
       "            text-align:  right;\n",
       "        }    #T_99cdb4a2_218e_11e8_a20a_30f9edaf9cc5row16_col2 {\n",
       "            text-align:  right;\n",
       "        }    #T_99cdb4a2_218e_11e8_a20a_30f9edaf9cc5row17_col0 {\n",
       "            text-align:  right;\n",
       "        }    #T_99cdb4a2_218e_11e8_a20a_30f9edaf9cc5row17_col1 {\n",
       "            text-align:  right;\n",
       "        }    #T_99cdb4a2_218e_11e8_a20a_30f9edaf9cc5row17_col2 {\n",
       "            text-align:  right;\n",
       "        }</style>  \n",
       "<table id=\"T_99cdb4a2_218e_11e8_a20a_30f9edaf9cc5\" > \n",
       "<thead>    <tr> \n",
       "        <th class=\"blank\" ></th> \n",
       "        <th class=\"blank\" ></th> \n",
       "        <th class=\"blank level0\" ></th> \n",
       "        <th class=\"col_heading level0 col0\" >Total number of passengers</th> \n",
       "        <th class=\"col_heading level0 col1\" >Number of passengers lost</th> \n",
       "        <th class=\"col_heading level0 col2\" >Percentage of passengers lost</th> \n",
       "    </tr>    <tr> \n",
       "        <th class=\"index_name level0\" >Embarked</th> \n",
       "        <th class=\"index_name level1\" >Pclass</th> \n",
       "        <th class=\"index_name level2\" >Sex</th> \n",
       "        <th class=\"blank\" ></th> \n",
       "        <th class=\"blank\" ></th> \n",
       "        <th class=\"blank\" ></th> \n",
       "    </tr></thead> \n",
       "<tbody>    <tr> \n",
       "        <th id=\"T_99cdb4a2_218e_11e8_a20a_30f9edaf9cc5level0_row0\" class=\"row_heading level0 row0\" rowspan=6>C</th> \n",
       "        <th id=\"T_99cdb4a2_218e_11e8_a20a_30f9edaf9cc5level1_row0\" class=\"row_heading level1 row0\" rowspan=2>1</th> \n",
       "        <th id=\"T_99cdb4a2_218e_11e8_a20a_30f9edaf9cc5level2_row0\" class=\"row_heading level2 row0\" >female</th> \n",
       "        <td id=\"T_99cdb4a2_218e_11e8_a20a_30f9edaf9cc5row0_col0\" class=\"data row0 col0\" >43</td> \n",
       "        <td id=\"T_99cdb4a2_218e_11e8_a20a_30f9edaf9cc5row0_col1\" class=\"data row0 col1\" >1</td> \n",
       "        <td id=\"T_99cdb4a2_218e_11e8_a20a_30f9edaf9cc5row0_col2\" class=\"data row0 col2\" >0.023</td> \n",
       "    </tr>    <tr> \n",
       "        <th id=\"T_99cdb4a2_218e_11e8_a20a_30f9edaf9cc5level2_row1\" class=\"row_heading level2 row1\" >male</th> \n",
       "        <td id=\"T_99cdb4a2_218e_11e8_a20a_30f9edaf9cc5row1_col0\" class=\"data row1 col0\" >42</td> \n",
       "        <td id=\"T_99cdb4a2_218e_11e8_a20a_30f9edaf9cc5row1_col1\" class=\"data row1 col1\" >25</td> \n",
       "        <td id=\"T_99cdb4a2_218e_11e8_a20a_30f9edaf9cc5row1_col2\" class=\"data row1 col2\" >0.595</td> \n",
       "    </tr>    <tr> \n",
       "        <th id=\"T_99cdb4a2_218e_11e8_a20a_30f9edaf9cc5level1_row2\" class=\"row_heading level1 row2\" rowspan=2>2</th> \n",
       "        <th id=\"T_99cdb4a2_218e_11e8_a20a_30f9edaf9cc5level2_row2\" class=\"row_heading level2 row2\" >female</th> \n",
       "        <td id=\"T_99cdb4a2_218e_11e8_a20a_30f9edaf9cc5row2_col0\" class=\"data row2 col0\" >7</td> \n",
       "        <td id=\"T_99cdb4a2_218e_11e8_a20a_30f9edaf9cc5row2_col1\" class=\"data row2 col1\" >0</td> \n",
       "        <td id=\"T_99cdb4a2_218e_11e8_a20a_30f9edaf9cc5row2_col2\" class=\"data row2 col2\" >0</td> \n",
       "    </tr>    <tr> \n",
       "        <th id=\"T_99cdb4a2_218e_11e8_a20a_30f9edaf9cc5level2_row3\" class=\"row_heading level2 row3\" >male</th> \n",
       "        <td id=\"T_99cdb4a2_218e_11e8_a20a_30f9edaf9cc5row3_col0\" class=\"data row3 col0\" >10</td> \n",
       "        <td id=\"T_99cdb4a2_218e_11e8_a20a_30f9edaf9cc5row3_col1\" class=\"data row3 col1\" >8</td> \n",
       "        <td id=\"T_99cdb4a2_218e_11e8_a20a_30f9edaf9cc5row3_col2\" class=\"data row3 col2\" >0.8</td> \n",
       "    </tr>    <tr> \n",
       "        <th id=\"T_99cdb4a2_218e_11e8_a20a_30f9edaf9cc5level1_row4\" class=\"row_heading level1 row4\" rowspan=2>3</th> \n",
       "        <th id=\"T_99cdb4a2_218e_11e8_a20a_30f9edaf9cc5level2_row4\" class=\"row_heading level2 row4\" >female</th> \n",
       "        <td id=\"T_99cdb4a2_218e_11e8_a20a_30f9edaf9cc5row4_col0\" class=\"data row4 col0\" >23</td> \n",
       "        <td id=\"T_99cdb4a2_218e_11e8_a20a_30f9edaf9cc5row4_col1\" class=\"data row4 col1\" >8</td> \n",
       "        <td id=\"T_99cdb4a2_218e_11e8_a20a_30f9edaf9cc5row4_col2\" class=\"data row4 col2\" >0.348</td> \n",
       "    </tr>    <tr> \n",
       "        <th id=\"T_99cdb4a2_218e_11e8_a20a_30f9edaf9cc5level2_row5\" class=\"row_heading level2 row5\" >male</th> \n",
       "        <td id=\"T_99cdb4a2_218e_11e8_a20a_30f9edaf9cc5row5_col0\" class=\"data row5 col0\" >43</td> \n",
       "        <td id=\"T_99cdb4a2_218e_11e8_a20a_30f9edaf9cc5row5_col1\" class=\"data row5 col1\" >33</td> \n",
       "        <td id=\"T_99cdb4a2_218e_11e8_a20a_30f9edaf9cc5row5_col2\" class=\"data row5 col2\" >0.767</td> \n",
       "    </tr>    <tr> \n",
       "        <th id=\"T_99cdb4a2_218e_11e8_a20a_30f9edaf9cc5level0_row6\" class=\"row_heading level0 row6\" rowspan=6>Q</th> \n",
       "        <th id=\"T_99cdb4a2_218e_11e8_a20a_30f9edaf9cc5level1_row6\" class=\"row_heading level1 row6\" rowspan=2>1</th> \n",
       "        <th id=\"T_99cdb4a2_218e_11e8_a20a_30f9edaf9cc5level2_row6\" class=\"row_heading level2 row6\" >female</th> \n",
       "        <td id=\"T_99cdb4a2_218e_11e8_a20a_30f9edaf9cc5row6_col0\" class=\"data row6 col0\" >1</td> \n",
       "        <td id=\"T_99cdb4a2_218e_11e8_a20a_30f9edaf9cc5row6_col1\" class=\"data row6 col1\" >0</td> \n",
       "        <td id=\"T_99cdb4a2_218e_11e8_a20a_30f9edaf9cc5row6_col2\" class=\"data row6 col2\" >0</td> \n",
       "    </tr>    <tr> \n",
       "        <th id=\"T_99cdb4a2_218e_11e8_a20a_30f9edaf9cc5level2_row7\" class=\"row_heading level2 row7\" >male</th> \n",
       "        <td id=\"T_99cdb4a2_218e_11e8_a20a_30f9edaf9cc5row7_col0\" class=\"data row7 col0\" >1</td> \n",
       "        <td id=\"T_99cdb4a2_218e_11e8_a20a_30f9edaf9cc5row7_col1\" class=\"data row7 col1\" >1</td> \n",
       "        <td id=\"T_99cdb4a2_218e_11e8_a20a_30f9edaf9cc5row7_col2\" class=\"data row7 col2\" >1</td> \n",
       "    </tr>    <tr> \n",
       "        <th id=\"T_99cdb4a2_218e_11e8_a20a_30f9edaf9cc5level1_row8\" class=\"row_heading level1 row8\" rowspan=2>2</th> \n",
       "        <th id=\"T_99cdb4a2_218e_11e8_a20a_30f9edaf9cc5level2_row8\" class=\"row_heading level2 row8\" >female</th> \n",
       "        <td id=\"T_99cdb4a2_218e_11e8_a20a_30f9edaf9cc5row8_col0\" class=\"data row8 col0\" >2</td> \n",
       "        <td id=\"T_99cdb4a2_218e_11e8_a20a_30f9edaf9cc5row8_col1\" class=\"data row8 col1\" >0</td> \n",
       "        <td id=\"T_99cdb4a2_218e_11e8_a20a_30f9edaf9cc5row8_col2\" class=\"data row8 col2\" >0</td> \n",
       "    </tr>    <tr> \n",
       "        <th id=\"T_99cdb4a2_218e_11e8_a20a_30f9edaf9cc5level2_row9\" class=\"row_heading level2 row9\" >male</th> \n",
       "        <td id=\"T_99cdb4a2_218e_11e8_a20a_30f9edaf9cc5row9_col0\" class=\"data row9 col0\" >1</td> \n",
       "        <td id=\"T_99cdb4a2_218e_11e8_a20a_30f9edaf9cc5row9_col1\" class=\"data row9 col1\" >1</td> \n",
       "        <td id=\"T_99cdb4a2_218e_11e8_a20a_30f9edaf9cc5row9_col2\" class=\"data row9 col2\" >1</td> \n",
       "    </tr>    <tr> \n",
       "        <th id=\"T_99cdb4a2_218e_11e8_a20a_30f9edaf9cc5level1_row10\" class=\"row_heading level1 row10\" rowspan=2>3</th> \n",
       "        <th id=\"T_99cdb4a2_218e_11e8_a20a_30f9edaf9cc5level2_row10\" class=\"row_heading level2 row10\" >female</th> \n",
       "        <td id=\"T_99cdb4a2_218e_11e8_a20a_30f9edaf9cc5row10_col0\" class=\"data row10 col0\" >33</td> \n",
       "        <td id=\"T_99cdb4a2_218e_11e8_a20a_30f9edaf9cc5row10_col1\" class=\"data row10 col1\" >9</td> \n",
       "        <td id=\"T_99cdb4a2_218e_11e8_a20a_30f9edaf9cc5row10_col2\" class=\"data row10 col2\" >0.273</td> \n",
       "    </tr>    <tr> \n",
       "        <th id=\"T_99cdb4a2_218e_11e8_a20a_30f9edaf9cc5level2_row11\" class=\"row_heading level2 row11\" >male</th> \n",
       "        <td id=\"T_99cdb4a2_218e_11e8_a20a_30f9edaf9cc5row11_col0\" class=\"data row11 col0\" >39</td> \n",
       "        <td id=\"T_99cdb4a2_218e_11e8_a20a_30f9edaf9cc5row11_col1\" class=\"data row11 col1\" >36</td> \n",
       "        <td id=\"T_99cdb4a2_218e_11e8_a20a_30f9edaf9cc5row11_col2\" class=\"data row11 col2\" >0.923</td> \n",
       "    </tr>    <tr> \n",
       "        <th id=\"T_99cdb4a2_218e_11e8_a20a_30f9edaf9cc5level0_row12\" class=\"row_heading level0 row12\" rowspan=6>S</th> \n",
       "        <th id=\"T_99cdb4a2_218e_11e8_a20a_30f9edaf9cc5level1_row12\" class=\"row_heading level1 row12\" rowspan=2>1</th> \n",
       "        <th id=\"T_99cdb4a2_218e_11e8_a20a_30f9edaf9cc5level2_row12\" class=\"row_heading level2 row12\" >female</th> \n",
       "        <td id=\"T_99cdb4a2_218e_11e8_a20a_30f9edaf9cc5row12_col0\" class=\"data row12 col0\" >50</td> \n",
       "        <td id=\"T_99cdb4a2_218e_11e8_a20a_30f9edaf9cc5row12_col1\" class=\"data row12 col1\" >2</td> \n",
       "        <td id=\"T_99cdb4a2_218e_11e8_a20a_30f9edaf9cc5row12_col2\" class=\"data row12 col2\" >0.04</td> \n",
       "    </tr>    <tr> \n",
       "        <th id=\"T_99cdb4a2_218e_11e8_a20a_30f9edaf9cc5level2_row13\" class=\"row_heading level2 row13\" >male</th> \n",
       "        <td id=\"T_99cdb4a2_218e_11e8_a20a_30f9edaf9cc5row13_col0\" class=\"data row13 col0\" >79</td> \n",
       "        <td id=\"T_99cdb4a2_218e_11e8_a20a_30f9edaf9cc5row13_col1\" class=\"data row13 col1\" >51</td> \n",
       "        <td id=\"T_99cdb4a2_218e_11e8_a20a_30f9edaf9cc5row13_col2\" class=\"data row13 col2\" >0.646</td> \n",
       "    </tr>    <tr> \n",
       "        <th id=\"T_99cdb4a2_218e_11e8_a20a_30f9edaf9cc5level1_row14\" class=\"row_heading level1 row14\" rowspan=2>2</th> \n",
       "        <th id=\"T_99cdb4a2_218e_11e8_a20a_30f9edaf9cc5level2_row14\" class=\"row_heading level2 row14\" >female</th> \n",
       "        <td id=\"T_99cdb4a2_218e_11e8_a20a_30f9edaf9cc5row14_col0\" class=\"data row14 col0\" >67</td> \n",
       "        <td id=\"T_99cdb4a2_218e_11e8_a20a_30f9edaf9cc5row14_col1\" class=\"data row14 col1\" >6</td> \n",
       "        <td id=\"T_99cdb4a2_218e_11e8_a20a_30f9edaf9cc5row14_col2\" class=\"data row14 col2\" >0.09</td> \n",
       "    </tr>    <tr> \n",
       "        <th id=\"T_99cdb4a2_218e_11e8_a20a_30f9edaf9cc5level2_row15\" class=\"row_heading level2 row15\" >male</th> \n",
       "        <td id=\"T_99cdb4a2_218e_11e8_a20a_30f9edaf9cc5row15_col0\" class=\"data row15 col0\" >97</td> \n",
       "        <td id=\"T_99cdb4a2_218e_11e8_a20a_30f9edaf9cc5row15_col1\" class=\"data row15 col1\" >82</td> \n",
       "        <td id=\"T_99cdb4a2_218e_11e8_a20a_30f9edaf9cc5row15_col2\" class=\"data row15 col2\" >0.845</td> \n",
       "    </tr>    <tr> \n",
       "        <th id=\"T_99cdb4a2_218e_11e8_a20a_30f9edaf9cc5level1_row16\" class=\"row_heading level1 row16\" rowspan=2>3</th> \n",
       "        <th id=\"T_99cdb4a2_218e_11e8_a20a_30f9edaf9cc5level2_row16\" class=\"row_heading level2 row16\" >female</th> \n",
       "        <td id=\"T_99cdb4a2_218e_11e8_a20a_30f9edaf9cc5row16_col0\" class=\"data row16 col0\" >88</td> \n",
       "        <td id=\"T_99cdb4a2_218e_11e8_a20a_30f9edaf9cc5row16_col1\" class=\"data row16 col1\" >55</td> \n",
       "        <td id=\"T_99cdb4a2_218e_11e8_a20a_30f9edaf9cc5row16_col2\" class=\"data row16 col2\" >0.625</td> \n",
       "    </tr>    <tr> \n",
       "        <th id=\"T_99cdb4a2_218e_11e8_a20a_30f9edaf9cc5level2_row17\" class=\"row_heading level2 row17\" >male</th> \n",
       "        <td id=\"T_99cdb4a2_218e_11e8_a20a_30f9edaf9cc5row17_col0\" class=\"data row17 col0\" >265</td> \n",
       "        <td id=\"T_99cdb4a2_218e_11e8_a20a_30f9edaf9cc5row17_col1\" class=\"data row17 col1\" >231</td> \n",
       "        <td id=\"T_99cdb4a2_218e_11e8_a20a_30f9edaf9cc5row17_col2\" class=\"data row17 col2\" >0.872</td> \n",
       "    </tr></tbody> \n",
       "</table> "
      ],
      "text/plain": [
       "<pandas.io.formats.style.Styler at 0xc7b5d68>"
      ]
     },
     "execution_count": 44,
     "metadata": {},
     "output_type": "execute_result"
    }
   ],
   "source": [
    "#ECS stands for Embarked, Class, and Sex\n",
    "ECS = pd.DataFrame(train.groupby(by = ['Embarked','Pclass'])['Sex'].value_counts())\n",
    "ECS_per = pd.DataFrame(round(1 - train.groupby(by = ['Embarked', 'Pclass', 'Sex'])['Survived'].mean(),3))\n",
    "ECS_lost = pd.DataFrame(train.groupby(by = ['Embarked','Pclass'])['Sex'].value_counts() - train.groupby(by = ['Embarked', 'Pclass', 'Sex'])['Survived'].sum())\n",
    "ECS = pd.concat([ECS, ECS_lost, ECS_per], axis = 1)\n",
    "ECS.columns = ['Total number of passengers', 'Number of passengers lost', 'Percentage of passengers lost']\n",
    "ECS = ECS.style.set_properties(**{'text-align': 'right'})\n",
    "ECS\n",
    "#ECS['Lost Percentage'] = ECS_per"
   ]
  },
  {
   "cell_type": "markdown",
   "metadata": {
    "_cell_guid": "d90c2487-7cdc-4160-b977-6f7ea9d177c1",
    "_uuid": "ed62aea159868c13d7a2eaadf28888aa667315c0"
   },
   "source": [
    "From the above table we see that, for each Embarked value, the general trend is that females had a higher chance of surviving than males. Within the female group, females of different classes within each Embarked value had different chances; females of the first class had the highest chance in all Embarked values, followed by females of the second class, followed by females of the third class. The differences between males within each Embarked value is less pronounced. However, we saw earlier that males have lower chance of surviving, and the ratio of different classes is smaller than the females. This may indicate, that the Embarked value has little effect on the outcome. Let'us examine the correlation between Embarked and the Survived variables."
   ]
  },
  {
   "cell_type": "markdown",
   "metadata": {
    "_cell_guid": "cd9c57cb-718d-4921-b56a-45940659eb3e",
    "_uuid": "3682d98ad6b052b2723e7ea4e1e7554a0e134f61"
   },
   "source": [
    "# 3.2 Numerical Features:\n",
    "Now let us examine the numeric features."
   ]
  },
  {
   "cell_type": "markdown",
   "metadata": {
    "_cell_guid": "976994ce-ba6f-489d-bb63-417e884771c4",
    "_uuid": "c86a43507404173b48f09c4a9a87ed972b7bd16f",
    "collapsed": true
   },
   "source": [
    "## 3.2.1 Age\n",
    "We start with the **Age** feature. Let us examine attributes of this feature."
   ]
  },
  {
   "cell_type": "code",
   "execution_count": 45,
   "metadata": {
    "_cell_guid": "46f6dab7-6662-4b33-b06e-e90b7e948e67",
    "_uuid": "d5769f0c4a88f731e7e0178ab6dd344a65bd85ce"
   },
   "outputs": [
    {
     "data": {
      "text/plain": [
       "count    891.000000\n",
       "mean      29.382907\n",
       "std       13.260272\n",
       "min        0.420000\n",
       "25%       22.000000\n",
       "50%       27.000000\n",
       "75%       36.000000\n",
       "max       80.000000\n",
       "Name: Age, dtype: float64"
      ]
     },
     "execution_count": 45,
     "metadata": {},
     "output_type": "execute_result"
    }
   ],
   "source": [
    "train['Age'].describe()"
   ]
  },
  {
   "cell_type": "code",
   "execution_count": 46,
   "metadata": {
    "_cell_guid": "4ef6b3d3-b157-4688-bf37-3e02cc19e901",
    "_uuid": "d0ccbff90dbbc4f531a98059f6c42d2f2c8fe3ba"
   },
   "outputs": [
    {
     "data": {
      "text/plain": [
       "<matplotlib.axes._subplots.AxesSubplot at 0xd482278>"
      ]
     },
     "execution_count": 46,
     "metadata": {},
     "output_type": "execute_result"
    },
    {
     "data": {
      "image/png": "[encoded data removed]",
      "text/plain": [
       "<matplotlib.figure.Figure at 0xcdd77f0>"
      ]
     },
     "metadata": {},
     "output_type": "display_data"
    }
   ],
   "source": [
    "plt.figure(figsize = (16, 6))\n",
    "sns.distplot(train['Age'], kde = False, hist_kws = {'edgecolor': 'k'}, bins = 150)"
   ]
  },
  {
   "cell_type": "markdown",
   "metadata": {
    "_cell_guid": "cc853ac4-1256-4c15-a65b-99b3de804be7",
    "_uuid": "4051d138f3e80e227e072a9b262e62201d7756c2"
   },
   "source": [
    "We see that **Age** is distributed from age of 5 months up to 80, with a mean of 29.3 years old.  From the 3rd quartile measure we see that 75% of the passengers were of age 36 years old and younger. Let us check the distribution based on the gender, class, and emarkation. "
   ]
  },
  {
   "cell_type": "code",
   "execution_count": 47,
   "metadata": {
    "_cell_guid": "751fa404-4bb8-45a2-bbc0-c1c8684aad1a",
    "_uuid": "8932f663724cfdf8b2cf95effd22c9898f1a0f85"
   },
   "outputs": [
    {
     "data": {
      "text/html": [
       "<div>\n",
       "<style>\n",
       "    .dataframe thead tr:only-child th {\n",
       "        text-align: right;\n",
       "    }\n",
       "\n",
       "    .dataframe thead th {\n",
       "        text-align: left;\n",
       "    }\n",
       "\n",
       "    .dataframe tbody tr th {\n",
       "        vertical-align: top;\n",
       "    }\n",
       "</style>\n",
       "<table border=\"1\" class=\"dataframe\">\n",
       "  <thead>\n",
       "    <tr style=\"text-align: right;\">\n",
       "      <th></th>\n",
       "      <th>count</th>\n",
       "      <th>mean</th>\n",
       "      <th>std</th>\n",
       "      <th>min</th>\n",
       "      <th>25%</th>\n",
       "      <th>50%</th>\n",
       "      <th>75%</th>\n",
       "      <th>max</th>\n",
       "    </tr>\n",
       "    <tr>\n",
       "      <th>Sex</th>\n",
       "      <th></th>\n",
       "      <th></th>\n",
       "      <th></th>\n",
       "      <th></th>\n",
       "      <th></th>\n",
       "      <th></th>\n",
       "      <th></th>\n",
       "      <th></th>\n",
       "    </tr>\n",
       "  </thead>\n",
       "  <tbody>\n",
       "    <tr>\n",
       "      <th>female</th>\n",
       "      <td>314.0</td>\n",
       "      <td>27.334395</td>\n",
       "      <td>13.083995</td>\n",
       "      <td>0.75</td>\n",
       "      <td>21.0</td>\n",
       "      <td>24.0</td>\n",
       "      <td>35.0</td>\n",
       "      <td>63.0</td>\n",
       "    </tr>\n",
       "    <tr>\n",
       "      <th>male</th>\n",
       "      <td>577.0</td>\n",
       "      <td>30.497695</td>\n",
       "      <td>13.233708</td>\n",
       "      <td>0.42</td>\n",
       "      <td>23.0</td>\n",
       "      <td>27.0</td>\n",
       "      <td>37.0</td>\n",
       "      <td>80.0</td>\n",
       "    </tr>\n",
       "  </tbody>\n",
       "</table>\n",
       "</div>"
      ],
      "text/plain": [
       "        count       mean        std   min   25%   50%   75%   max\n",
       "Sex                                                              \n",
       "female  314.0  27.334395  13.083995  0.75  21.0  24.0  35.0  63.0\n",
       "male    577.0  30.497695  13.233708  0.42  23.0  27.0  37.0  80.0"
      ]
     },
     "execution_count": 47,
     "metadata": {},
     "output_type": "execute_result"
    }
   ],
   "source": [
    "train.groupby(by = 'Sex')['Age'].describe()"
   ]
  },
  {
   "cell_type": "code",
   "execution_count": 48,
   "metadata": {
    "_cell_guid": "4c80fb8c-6599-4a7e-bbae-d73916914914",
    "_uuid": "61f28aece2e85f0f8d10477cba1c27cb3e41d309"
   },
   "outputs": [
    {
     "data": {
      "text/plain": [
       "<matplotlib.axes._subplots.AxesSubplot at 0xc63a908>"
      ]
     },
     "execution_count": 48,
     "metadata": {},
     "output_type": "execute_result"
    },
    {
     "data": {
      "image/png": "[encoded data removed]",
      "text/plain": [
       "<matplotlib.figure.Figure at 0xcdf3550>"
      ]
     },
     "metadata": {},
     "output_type": "display_data"
    }
   ],
   "source": [
    "plt.figure(figsize = (12, 6))\n",
    "sns.boxplot(x = 'Sex', y = 'Age', data = train)"
   ]
  },
  {
   "cell_type": "markdown",
   "metadata": {
    "_cell_guid": "c6f38b12-f7d3-4f29-b9b7-9905b7d060b6",
    "_uuid": "a47d7e5bccb63c8af453bf822b2d878ef71b009a"
   },
   "source": [
    "We can see that both males and females have almost the same Inter Quartile Range (IQR). However, the male group ages is has more extreme values (that are > $1.5\\times IQR)$. "
   ]
  },
  {
   "cell_type": "code",
   "execution_count": 49,
   "metadata": {
    "_cell_guid": "60f1f123-bda5-4e32-b582-3e78df47b1c9",
    "_uuid": "923882bb4835b0df729e2c06877ad5b3ec768cd7"
   },
   "outputs": [
    {
     "data": {
      "text/html": [
       "<div>\n",
       "<style>\n",
       "    .dataframe thead tr:only-child th {\n",
       "        text-align: right;\n",
       "    }\n",
       "\n",
       "    .dataframe thead th {\n",
       "        text-align: left;\n",
       "    }\n",
       "\n",
       "    .dataframe tbody tr th {\n",
       "        vertical-align: top;\n",
       "    }\n",
       "</style>\n",
       "<table border=\"1\" class=\"dataframe\">\n",
       "  <thead>\n",
       "    <tr style=\"text-align: right;\">\n",
       "      <th></th>\n",
       "      <th>count</th>\n",
       "      <th>mean</th>\n",
       "      <th>std</th>\n",
       "      <th>min</th>\n",
       "      <th>25%</th>\n",
       "      <th>50%</th>\n",
       "      <th>75%</th>\n",
       "      <th>max</th>\n",
       "    </tr>\n",
       "    <tr>\n",
       "      <th>Pclass</th>\n",
       "      <th></th>\n",
       "      <th></th>\n",
       "      <th></th>\n",
       "      <th></th>\n",
       "      <th></th>\n",
       "      <th></th>\n",
       "      <th></th>\n",
       "      <th></th>\n",
       "    </tr>\n",
       "  </thead>\n",
       "  <tbody>\n",
       "    <tr>\n",
       "      <th>1</th>\n",
       "      <td>216.0</td>\n",
       "      <td>38.367685</td>\n",
       "      <td>13.773749</td>\n",
       "      <td>0.92</td>\n",
       "      <td>29.00</td>\n",
       "      <td>38.0</td>\n",
       "      <td>47.25</td>\n",
       "      <td>80.0</td>\n",
       "    </tr>\n",
       "    <tr>\n",
       "      <th>2</th>\n",
       "      <td>184.0</td>\n",
       "      <td>29.922989</td>\n",
       "      <td>13.576274</td>\n",
       "      <td>0.67</td>\n",
       "      <td>23.00</td>\n",
       "      <td>30.0</td>\n",
       "      <td>36.00</td>\n",
       "      <td>70.0</td>\n",
       "    </tr>\n",
       "    <tr>\n",
       "      <th>3</th>\n",
       "      <td>491.0</td>\n",
       "      <td>25.227943</td>\n",
       "      <td>10.691145</td>\n",
       "      <td>0.42</td>\n",
       "      <td>20.25</td>\n",
       "      <td>26.0</td>\n",
       "      <td>29.00</td>\n",
       "      <td>74.0</td>\n",
       "    </tr>\n",
       "  </tbody>\n",
       "</table>\n",
       "</div>"
      ],
      "text/plain": [
       "        count       mean        std   min    25%   50%    75%   max\n",
       "Pclass                                                             \n",
       "1       216.0  38.367685  13.773749  0.92  29.00  38.0  47.25  80.0\n",
       "2       184.0  29.922989  13.576274  0.67  23.00  30.0  36.00  70.0\n",
       "3       491.0  25.227943  10.691145  0.42  20.25  26.0  29.00  74.0"
      ]
     },
     "execution_count": 49,
     "metadata": {},
     "output_type": "execute_result"
    }
   ],
   "source": [
    "train.groupby(by = ['Pclass'])['Age'].describe()"
   ]
  },
  {
   "cell_type": "code",
   "execution_count": 50,
   "metadata": {
    "_cell_guid": "4225a0fc-d7fd-40ff-a757-753a0b9fd833",
    "_uuid": "c63704df7bcd9017a5601fb07a286858cce09f19"
   },
   "outputs": [
    {
     "data": {
      "text/plain": [
       "<matplotlib.axes._subplots.AxesSubplot at 0xcd5ea90>"
      ]
     },
     "execution_count": 50,
     "metadata": {},
     "output_type": "execute_result"
    },
    {
     "data": {
      "image/png": "[encoded data removed]",
      "text/plain": [
       "<matplotlib.figure.Figure at 0xc132630>"
      ]
     },
     "metadata": {},
     "output_type": "display_data"
    }
   ],
   "source": [
    "plt.figure(figsize = (12, 6))\n",
    "sns.boxplot(x = 'Pclass', y = 'Age', data = train)"
   ]
  },
  {
   "cell_type": "markdown",
   "metadata": {
    "_cell_guid": "abf5690e-edf4-4392-934b-07848a8e56a7",
    "_uuid": "412c47f105cd600fe29201a6d44169939c859546"
   },
   "source": [
    "Based on the class, we see that Age has a wider range in class 1 and 2 compared to class 3. This means that most passengers in class 3 were young. Actually, 75% of the passengers in class 3 were of age 29 and younger. This fact, combined with the fact that most of these young people were males, probably affected the survival rate of the passengers of class 3. Let us examine the distribution of age based on gender and class."
   ]
  },
  {
   "cell_type": "code",
   "execution_count": 51,
   "metadata": {
    "_cell_guid": "a8a08bc0-b52a-4931-9921-d1d910e913c6",
    "_uuid": "1c8a1ba40003891cb13cc6908f50b08e4934a571"
   },
   "outputs": [
    {
     "data": {
      "text/html": [
       "<div>\n",
       "<style>\n",
       "    .dataframe thead tr:only-child th {\n",
       "        text-align: right;\n",
       "    }\n",
       "\n",
       "    .dataframe thead th {\n",
       "        text-align: left;\n",
       "    }\n",
       "\n",
       "    .dataframe tbody tr th {\n",
       "        vertical-align: top;\n",
       "    }\n",
       "</style>\n",
       "<table border=\"1\" class=\"dataframe\">\n",
       "  <thead>\n",
       "    <tr style=\"text-align: right;\">\n",
       "      <th></th>\n",
       "      <th></th>\n",
       "      <th>count</th>\n",
       "      <th>mean</th>\n",
       "      <th>std</th>\n",
       "      <th>min</th>\n",
       "      <th>25%</th>\n",
       "      <th>50%</th>\n",
       "      <th>75%</th>\n",
       "      <th>max</th>\n",
       "    </tr>\n",
       "    <tr>\n",
       "      <th>Sex</th>\n",
       "      <th>Pclass</th>\n",
       "      <th></th>\n",
       "      <th></th>\n",
       "      <th></th>\n",
       "      <th></th>\n",
       "      <th></th>\n",
       "      <th></th>\n",
       "      <th></th>\n",
       "      <th></th>\n",
       "    </tr>\n",
       "  </thead>\n",
       "  <tbody>\n",
       "    <tr>\n",
       "      <th rowspan=\"3\" valign=\"top\">female</th>\n",
       "      <th>1</th>\n",
       "      <td>94.0</td>\n",
       "      <td>34.648936</td>\n",
       "      <td>12.937158</td>\n",
       "      <td>2.00</td>\n",
       "      <td>24.00</td>\n",
       "      <td>35.0</td>\n",
       "      <td>42.75</td>\n",
       "      <td>63.0</td>\n",
       "    </tr>\n",
       "    <tr>\n",
       "      <th>2</th>\n",
       "      <td>76.0</td>\n",
       "      <td>28.730263</td>\n",
       "      <td>12.699984</td>\n",
       "      <td>2.00</td>\n",
       "      <td>22.75</td>\n",
       "      <td>28.5</td>\n",
       "      <td>36.00</td>\n",
       "      <td>57.0</td>\n",
       "    </tr>\n",
       "    <tr>\n",
       "      <th>3</th>\n",
       "      <td>144.0</td>\n",
       "      <td>21.822917</td>\n",
       "      <td>10.699032</td>\n",
       "      <td>0.75</td>\n",
       "      <td>18.00</td>\n",
       "      <td>22.0</td>\n",
       "      <td>26.00</td>\n",
       "      <td>63.0</td>\n",
       "    </tr>\n",
       "    <tr>\n",
       "      <th rowspan=\"3\" valign=\"top\">male</th>\n",
       "      <th>1</th>\n",
       "      <td>122.0</td>\n",
       "      <td>41.232951</td>\n",
       "      <td>13.763659</td>\n",
       "      <td>0.92</td>\n",
       "      <td>33.25</td>\n",
       "      <td>41.0</td>\n",
       "      <td>49.00</td>\n",
       "      <td>80.0</td>\n",
       "    </tr>\n",
       "    <tr>\n",
       "      <th>2</th>\n",
       "      <td>108.0</td>\n",
       "      <td>30.762315</td>\n",
       "      <td>14.158240</td>\n",
       "      <td>0.67</td>\n",
       "      <td>23.00</td>\n",
       "      <td>31.0</td>\n",
       "      <td>36.00</td>\n",
       "      <td>70.0</td>\n",
       "    </tr>\n",
       "    <tr>\n",
       "      <th>3</th>\n",
       "      <td>347.0</td>\n",
       "      <td>26.640980</td>\n",
       "      <td>10.379472</td>\n",
       "      <td>0.42</td>\n",
       "      <td>21.00</td>\n",
       "      <td>27.0</td>\n",
       "      <td>30.00</td>\n",
       "      <td>74.0</td>\n",
       "    </tr>\n",
       "  </tbody>\n",
       "</table>\n",
       "</div>"
      ],
      "text/plain": [
       "               count       mean        std   min    25%   50%    75%   max\n",
       "Sex    Pclass                                                             \n",
       "female 1        94.0  34.648936  12.937158  2.00  24.00  35.0  42.75  63.0\n",
       "       2        76.0  28.730263  12.699984  2.00  22.75  28.5  36.00  57.0\n",
       "       3       144.0  21.822917  10.699032  0.75  18.00  22.0  26.00  63.0\n",
       "male   1       122.0  41.232951  13.763659  0.92  33.25  41.0  49.00  80.0\n",
       "       2       108.0  30.762315  14.158240  0.67  23.00  31.0  36.00  70.0\n",
       "       3       347.0  26.640980  10.379472  0.42  21.00  27.0  30.00  74.0"
      ]
     },
     "execution_count": 51,
     "metadata": {},
     "output_type": "execute_result"
    }
   ],
   "source": [
    "train.groupby(by = ['Sex','Pclass'])['Age'].describe()"
   ]
  },
  {
   "cell_type": "code",
   "execution_count": 52,
   "metadata": {
    "_cell_guid": "27cf2827-1c82-4aac-9f7d-64d5e6be43ac",
    "_uuid": "885fd2fa0e2e80c0411c8c4ba6ae0270b20a167c"
   },
   "outputs": [
    {
     "data": {
      "text/plain": [
       "<matplotlib.axes._subplots.AxesSubplot at 0xc82d518>"
      ]
     },
     "execution_count": 52,
     "metadata": {},
     "output_type": "execute_result"
    },
    {
     "data": {
      "image/png": "[encoded data removed]",
      "text/plain": [
       "<matplotlib.figure.Figure at 0xc82dba8>"
      ]
     },
     "metadata": {},
     "output_type": "display_data"
    }
   ],
   "source": [
    "plt.figure(figsize = (12, 6))\n",
    "sns.boxplot(x = 'Sex', y = 'Age', data = train, hue = 'Pclass')"
   ]
  },
  {
   "cell_type": "markdown",
   "metadata": {
    "_cell_guid": "c4e798a5-06b9-4e17-8a37-56a1d3b23d59",
    "_uuid": "c07648a62e41bbeb86e5b106c4ca311864de7e4c"
   },
   "source": [
    "We see that males and females of each class has closer distribution, with males having more outlier values. "
   ]
  },
  {
   "cell_type": "markdown",
   "metadata": {
    "_cell_guid": "67bc5d80-c46a-4f91-bcda-d01bf267bb87",
    "_uuid": "e75beacb8877bc7b4e8091d957c36c2dbd916bb1"
   },
   "source": [
    "## 3.2.2 Fare\n",
    "Now let us examine the **Fare** feature. "
   ]
  },
  {
   "cell_type": "code",
   "execution_count": 53,
   "metadata": {
    "_cell_guid": "cc1af5d4-2b43-4ba1-8053-dcbcea7315c4",
    "_uuid": "4b09781d622750744d96d5d07794ddb4b0bf15d7"
   },
   "outputs": [
    {
     "data": {
      "text/plain": [
       "count    891.000000\n",
       "mean      32.204208\n",
       "std       49.693429\n",
       "min        0.000000\n",
       "25%        7.910400\n",
       "50%       14.454200\n",
       "75%       31.000000\n",
       "max      512.329200\n",
       "Name: Fare, dtype: float64"
      ]
     },
     "execution_count": 53,
     "metadata": {},
     "output_type": "execute_result"
    }
   ],
   "source": [
    "train['Fare'].describe()"
   ]
  },
  {
   "cell_type": "code",
   "execution_count": 54,
   "metadata": {
    "_cell_guid": "3e495a2a-abc6-411e-a856-1e14e535e109",
    "_uuid": "f534d50ba57864a7561a548dafe807cf5b8d86d7"
   },
   "outputs": [
    {
     "data": {
      "text/plain": [
       "<matplotlib.axes._subplots.AxesSubplot at 0xc8673c8>"
      ]
     },
     "execution_count": 54,
     "metadata": {},
     "output_type": "execute_result"
    },
    {
     "data": {
      "image/png": "[encoded data removed]",
      "text/plain": [
       "<matplotlib.figure.Figure at 0xc7dae48>"
      ]
     },
     "metadata": {},
     "output_type": "display_data"
    }
   ],
   "source": [
    "plt.figure(figsize = (16, 6))\n",
    "sns.distplot(train['Fare'], kde = False, hist_kws = {'edgecolor': 'k'}, bins = 150)"
   ]
  },
  {
   "cell_type": "markdown",
   "metadata": {
    "_cell_guid": "479b86b4-edc9-463e-a7a4-02d7a41f9cde",
    "_uuid": "c034f4284e95daedf6c39a81a4f662f153ec8d81"
   },
   "source": [
    "We see that the fare price is ranged between 0 and 512.329. We also see that 75% of the fare prices is below 31, but the mean value is 32.2 (compared to the median of 14.45). This again is due to outliers in the prices. Let us examine the bocplot of the fare feature."
   ]
  },
  {
   "cell_type": "code",
   "execution_count": 55,
   "metadata": {
    "_cell_guid": "171d5ec4-2421-498d-b249-0f3ef117c690",
    "_uuid": "bb0742013b974ec12c7cc04a403752c523a655d4"
   },
   "outputs": [
    {
     "data": {
      "text/plain": [
       "<matplotlib.axes._subplots.AxesSubplot at 0xd268780>"
      ]
     },
     "execution_count": 55,
     "metadata": {},
     "output_type": "execute_result"
    },
    {
     "data": {
      "image/png": "[encoded data removed]",
      "text/plain": [
       "<matplotlib.figure.Figure at 0xd268358>"
      ]
     },
     "metadata": {},
     "output_type": "display_data"
    }
   ],
   "source": [
    "plt.figure(figsize = (12, 8))\n",
    "sns.boxplot(y = 'Fare', data = train)"
   ]
  },
  {
   "cell_type": "markdown",
   "metadata": {
    "_cell_guid": "42aa3b80-db40-4933-b065-0267b875631e",
    "_uuid": "1aaf5010d0c100e2d7a487a548f91e008b1ca7aa"
   },
   "source": [
    "It is although the range of fare prices reaches 512, most of the prices is below 65.5 (31+1.5 * IQR). \n",
    "\n",
    "What is the distribution of fare based on gender?"
   ]
  },
  {
   "cell_type": "code",
   "execution_count": 56,
   "metadata": {
    "_cell_guid": "0fd977f0-e12b-47c6-b8be-acb873492ac6",
    "_uuid": "4dd85ab5773a5cbae9b1754097f712213a045f16"
   },
   "outputs": [
    {
     "data": {
      "text/html": [
       "<div>\n",
       "<style>\n",
       "    .dataframe thead tr:only-child th {\n",
       "        text-align: right;\n",
       "    }\n",
       "\n",
       "    .dataframe thead th {\n",
       "        text-align: left;\n",
       "    }\n",
       "\n",
       "    .dataframe tbody tr th {\n",
       "        vertical-align: top;\n",
       "    }\n",
       "</style>\n",
       "<table border=\"1\" class=\"dataframe\">\n",
       "  <thead>\n",
       "    <tr style=\"text-align: right;\">\n",
       "      <th></th>\n",
       "      <th>count</th>\n",
       "      <th>mean</th>\n",
       "      <th>std</th>\n",
       "      <th>min</th>\n",
       "      <th>25%</th>\n",
       "      <th>50%</th>\n",
       "      <th>75%</th>\n",
       "      <th>max</th>\n",
       "    </tr>\n",
       "    <tr>\n",
       "      <th>Sex</th>\n",
       "      <th></th>\n",
       "      <th></th>\n",
       "      <th></th>\n",
       "      <th></th>\n",
       "      <th></th>\n",
       "      <th></th>\n",
       "      <th></th>\n",
       "      <th></th>\n",
       "    </tr>\n",
       "  </thead>\n",
       "  <tbody>\n",
       "    <tr>\n",
       "      <th>female</th>\n",
       "      <td>314.0</td>\n",
       "      <td>44.479818</td>\n",
       "      <td>57.997698</td>\n",
       "      <td>6.75</td>\n",
       "      <td>12.071875</td>\n",
       "      <td>23.0</td>\n",
       "      <td>55.00</td>\n",
       "      <td>512.3292</td>\n",
       "    </tr>\n",
       "    <tr>\n",
       "      <th>male</th>\n",
       "      <td>577.0</td>\n",
       "      <td>25.523893</td>\n",
       "      <td>43.138263</td>\n",
       "      <td>0.00</td>\n",
       "      <td>7.895800</td>\n",
       "      <td>10.5</td>\n",
       "      <td>26.55</td>\n",
       "      <td>512.3292</td>\n",
       "    </tr>\n",
       "  </tbody>\n",
       "</table>\n",
       "</div>"
      ],
      "text/plain": [
       "        count       mean        std   min        25%   50%    75%       max\n",
       "Sex                                                                        \n",
       "female  314.0  44.479818  57.997698  6.75  12.071875  23.0  55.00  512.3292\n",
       "male    577.0  25.523893  43.138263  0.00   7.895800  10.5  26.55  512.3292"
      ]
     },
     "execution_count": 56,
     "metadata": {},
     "output_type": "execute_result"
    }
   ],
   "source": [
    "train.groupby(by = 'Sex')['Fare'].describe()"
   ]
  },
  {
   "cell_type": "markdown",
   "metadata": {
    "_cell_guid": "eeb5e641-04e9-4136-9960-21381b3dce8b",
    "_uuid": "de0636b648dc42e075d69087e2e0c3306e170d26"
   },
   "source": [
    "Unlike age, the fare feature has more discrepency between males and females, where the male tickects are cheaper.\n",
    "\n",
    "What is the distribution of fare based on class?"
   ]
  },
  {
   "cell_type": "code",
   "execution_count": 57,
   "metadata": {
    "_cell_guid": "0d45c39b-165a-459d-8c13-eb05bcf3cd92",
    "_uuid": "c1c2379340e5c2ba8343772543b3dbd570271da7"
   },
   "outputs": [
    {
     "data": {
      "text/html": [
       "<div>\n",
       "<style>\n",
       "    .dataframe thead tr:only-child th {\n",
       "        text-align: right;\n",
       "    }\n",
       "\n",
       "    .dataframe thead th {\n",
       "        text-align: left;\n",
       "    }\n",
       "\n",
       "    .dataframe tbody tr th {\n",
       "        vertical-align: top;\n",
       "    }\n",
       "</style>\n",
       "<table border=\"1\" class=\"dataframe\">\n",
       "  <thead>\n",
       "    <tr style=\"text-align: right;\">\n",
       "      <th></th>\n",
       "      <th>count</th>\n",
       "      <th>mean</th>\n",
       "      <th>std</th>\n",
       "      <th>min</th>\n",
       "      <th>25%</th>\n",
       "      <th>50%</th>\n",
       "      <th>75%</th>\n",
       "      <th>max</th>\n",
       "    </tr>\n",
       "    <tr>\n",
       "      <th>Pclass</th>\n",
       "      <th></th>\n",
       "      <th></th>\n",
       "      <th></th>\n",
       "      <th></th>\n",
       "      <th></th>\n",
       "      <th></th>\n",
       "      <th></th>\n",
       "      <th></th>\n",
       "    </tr>\n",
       "  </thead>\n",
       "  <tbody>\n",
       "    <tr>\n",
       "      <th>1</th>\n",
       "      <td>216.0</td>\n",
       "      <td>84.154687</td>\n",
       "      <td>78.380373</td>\n",
       "      <td>0.0</td>\n",
       "      <td>30.92395</td>\n",
       "      <td>60.2875</td>\n",
       "      <td>93.5</td>\n",
       "      <td>512.3292</td>\n",
       "    </tr>\n",
       "    <tr>\n",
       "      <th>2</th>\n",
       "      <td>184.0</td>\n",
       "      <td>20.662183</td>\n",
       "      <td>13.417399</td>\n",
       "      <td>0.0</td>\n",
       "      <td>13.00000</td>\n",
       "      <td>14.2500</td>\n",
       "      <td>26.0</td>\n",
       "      <td>73.5000</td>\n",
       "    </tr>\n",
       "    <tr>\n",
       "      <th>3</th>\n",
       "      <td>491.0</td>\n",
       "      <td>13.675550</td>\n",
       "      <td>11.778142</td>\n",
       "      <td>0.0</td>\n",
       "      <td>7.75000</td>\n",
       "      <td>8.0500</td>\n",
       "      <td>15.5</td>\n",
       "      <td>69.5500</td>\n",
       "    </tr>\n",
       "  </tbody>\n",
       "</table>\n",
       "</div>"
      ],
      "text/plain": [
       "        count       mean        std  min       25%      50%   75%       max\n",
       "Pclass                                                                     \n",
       "1       216.0  84.154687  78.380373  0.0  30.92395  60.2875  93.5  512.3292\n",
       "2       184.0  20.662183  13.417399  0.0  13.00000  14.2500  26.0   73.5000\n",
       "3       491.0  13.675550  11.778142  0.0   7.75000   8.0500  15.5   69.5500"
      ]
     },
     "execution_count": 57,
     "metadata": {},
     "output_type": "execute_result"
    }
   ],
   "source": [
    "train.groupby(by = 'Pclass')['Fare'].describe()"
   ]
  },
  {
   "cell_type": "markdown",
   "metadata": {
    "_cell_guid": "539a332c-ea42-4743-8ae5-6668cc5abd37",
    "_uuid": "287d4791f822b0f21bcc4950c0d1df05fb493a5d"
   },
   "source": [
    "We see that the fare is less dispersed in classes 2 and 3 than in class 1. \n",
    "\n",
    "What is the distribution of fare based on Sex and Class?"
   ]
  },
  {
   "cell_type": "code",
   "execution_count": 58,
   "metadata": {
    "_cell_guid": "ec4d3dd9-0a4b-4f37-bcef-a7a95d4812a7",
    "_uuid": "4d3024da33f64be888a0d548d78fdd12737be804"
   },
   "outputs": [
    {
     "data": {
      "text/html": [
       "<div>\n",
       "<style>\n",
       "    .dataframe thead tr:only-child th {\n",
       "        text-align: right;\n",
       "    }\n",
       "\n",
       "    .dataframe thead th {\n",
       "        text-align: left;\n",
       "    }\n",
       "\n",
       "    .dataframe tbody tr th {\n",
       "        vertical-align: top;\n",
       "    }\n",
       "</style>\n",
       "<table border=\"1\" class=\"dataframe\">\n",
       "  <thead>\n",
       "    <tr style=\"text-align: right;\">\n",
       "      <th></th>\n",
       "      <th></th>\n",
       "      <th>count</th>\n",
       "      <th>mean</th>\n",
       "      <th>std</th>\n",
       "      <th>min</th>\n",
       "      <th>25%</th>\n",
       "      <th>50%</th>\n",
       "      <th>75%</th>\n",
       "      <th>max</th>\n",
       "    </tr>\n",
       "    <tr>\n",
       "      <th>Sex</th>\n",
       "      <th>Pclass</th>\n",
       "      <th></th>\n",
       "      <th></th>\n",
       "      <th></th>\n",
       "      <th></th>\n",
       "      <th></th>\n",
       "      <th></th>\n",
       "      <th></th>\n",
       "      <th></th>\n",
       "    </tr>\n",
       "  </thead>\n",
       "  <tbody>\n",
       "    <tr>\n",
       "      <th rowspan=\"3\" valign=\"top\">female</th>\n",
       "      <th>1</th>\n",
       "      <td>94.0</td>\n",
       "      <td>106.125798</td>\n",
       "      <td>74.259988</td>\n",
       "      <td>25.9292</td>\n",
       "      <td>57.24480</td>\n",
       "      <td>82.66455</td>\n",
       "      <td>134.500000</td>\n",
       "      <td>512.3292</td>\n",
       "    </tr>\n",
       "    <tr>\n",
       "      <th>2</th>\n",
       "      <td>76.0</td>\n",
       "      <td>21.970121</td>\n",
       "      <td>10.891796</td>\n",
       "      <td>10.5000</td>\n",
       "      <td>13.00000</td>\n",
       "      <td>22.00000</td>\n",
       "      <td>26.062500</td>\n",
       "      <td>65.0000</td>\n",
       "    </tr>\n",
       "    <tr>\n",
       "      <th>3</th>\n",
       "      <td>144.0</td>\n",
       "      <td>16.118810</td>\n",
       "      <td>11.690314</td>\n",
       "      <td>6.7500</td>\n",
       "      <td>7.85420</td>\n",
       "      <td>12.47500</td>\n",
       "      <td>20.221875</td>\n",
       "      <td>69.5500</td>\n",
       "    </tr>\n",
       "    <tr>\n",
       "      <th rowspan=\"3\" valign=\"top\">male</th>\n",
       "      <th>1</th>\n",
       "      <td>122.0</td>\n",
       "      <td>67.226127</td>\n",
       "      <td>77.548021</td>\n",
       "      <td>0.0000</td>\n",
       "      <td>27.72810</td>\n",
       "      <td>41.26250</td>\n",
       "      <td>78.459375</td>\n",
       "      <td>512.3292</td>\n",
       "    </tr>\n",
       "    <tr>\n",
       "      <th>2</th>\n",
       "      <td>108.0</td>\n",
       "      <td>19.741782</td>\n",
       "      <td>14.922235</td>\n",
       "      <td>0.0000</td>\n",
       "      <td>12.33125</td>\n",
       "      <td>13.00000</td>\n",
       "      <td>26.000000</td>\n",
       "      <td>73.5000</td>\n",
       "    </tr>\n",
       "    <tr>\n",
       "      <th>3</th>\n",
       "      <td>347.0</td>\n",
       "      <td>12.661633</td>\n",
       "      <td>11.681696</td>\n",
       "      <td>0.0000</td>\n",
       "      <td>7.75000</td>\n",
       "      <td>7.92500</td>\n",
       "      <td>10.008300</td>\n",
       "      <td>69.5500</td>\n",
       "    </tr>\n",
       "  </tbody>\n",
       "</table>\n",
       "</div>"
      ],
      "text/plain": [
       "               count        mean        std      min       25%       50%  \\\n",
       "Sex    Pclass                                                              \n",
       "female 1        94.0  106.125798  74.259988  25.9292  57.24480  82.66455   \n",
       "       2        76.0   21.970121  10.891796  10.5000  13.00000  22.00000   \n",
       "       3       144.0   16.118810  11.690314   6.7500   7.85420  12.47500   \n",
       "male   1       122.0   67.226127  77.548021   0.0000  27.72810  41.26250   \n",
       "       2       108.0   19.741782  14.922235   0.0000  12.33125  13.00000   \n",
       "       3       347.0   12.661633  11.681696   0.0000   7.75000   7.92500   \n",
       "\n",
       "                      75%       max  \n",
       "Sex    Pclass                        \n",
       "female 1       134.500000  512.3292  \n",
       "       2        26.062500   65.0000  \n",
       "       3        20.221875   69.5500  \n",
       "male   1        78.459375  512.3292  \n",
       "       2        26.000000   73.5000  \n",
       "       3        10.008300   69.5500  "
      ]
     },
     "execution_count": 58,
     "metadata": {},
     "output_type": "execute_result"
    }
   ],
   "source": [
    "train.groupby(by = ['Sex', 'Pclass'])['Fare'].describe()"
   ]
  },
  {
   "cell_type": "markdown",
   "metadata": {
    "_cell_guid": "c7e00363-ad14-4b2b-9d07-fa1d93418a0d",
    "_uuid": "425b279b3855de66b7a671fdd83eada1a105214b",
    "collapsed": true
   },
   "source": [
    "## 3.2.3 SibSP\n",
    "Now let us examine the SibSp (Sibling Spouse) feature."
   ]
  },
  {
   "cell_type": "code",
   "execution_count": 59,
   "metadata": {
    "_cell_guid": "58d042fe-8d45-47aa-87b5-2b3b9175c82f",
    "_uuid": "f2416cbe412f9eec974a923cdba8b349cbf4f7ee"
   },
   "outputs": [
    {
     "data": {
      "image/png": "[encoded data removed]",
      "text/plain": [
       "<matplotlib.figure.Figure at 0xc7ec320>"
      ]
     },
     "metadata": {},
     "output_type": "display_data"
    }
   ],
   "source": [
    "plt.figure(figsize = (16, 6))\n",
    "g = sns.countplot(x = 'SibSp', data = train)\n",
    "for p in g.patches:\n",
    "        g.annotate(\"%0.2f\" % p.get_height(), (p.get_x() + p.get_width() / 2., p.get_height()),\n",
    "             ha='center', va='center', xytext=(0, 8), textcoords='offset points')"
   ]
  },
  {
   "cell_type": "markdown",
   "metadata": {
    "_cell_guid": "0ec224b1-0ae4-4e0d-b672-e940abf6ecae",
    "_uuid": "d90c7ac6e38357318e98232d415ef7f356f1efb0"
   },
   "source": [
    "We see that most passengers were either alone, or with one sibling/spouse. "
   ]
  },
  {
   "cell_type": "markdown",
   "metadata": {
    "_cell_guid": "42d66649-374b-43f3-bffa-cf73fa30b93f",
    "_uuid": "8972e4849e9c83b868355b9324fe3140b6367597"
   },
   "source": [
    "## 3.2.4 ParCh\n",
    "Now, let us examine the ParCh (parent/child) feature."
   ]
  },
  {
   "cell_type": "code",
   "execution_count": 60,
   "metadata": {
    "_cell_guid": "bb9b9d81-db17-4202-8581-cc3c11d79fd2",
    "_uuid": "ffa2254e67f7e6dfe20f19a8567da0a3f9cef29f"
   },
   "outputs": [
    {
     "data": {
      "image/png": "[encoded data removed]",
      "text/plain": [
       "<matplotlib.figure.Figure at 0xd3447b8>"
      ]
     },
     "metadata": {},
     "output_type": "display_data"
    }
   ],
   "source": [
    "plt.figure(figsize = (16, 6))\n",
    "g = sns.countplot(x = 'Parch', data = train)\n",
    "for p in g.patches:\n",
    "        g.annotate(\"%0.2f\" % p.get_height(), (p.get_x() + p.get_width() / 2., p.get_height()),\n",
    "             ha='center', va='center', xytext=(0, 8), textcoords='offset points')"
   ]
  },
  {
   "cell_type": "markdown",
   "metadata": {
    "_cell_guid": "94efc57d-baf8-48ea-aa09-2a627cb63361",
    "_uuid": "5be3cfd1a68696969887d7a6fca1b021eccb7b90"
   },
   "source": [
    "We see that most passengers were either alone, or with 1 or 2 parent/child."
   ]
  },
  {
   "cell_type": "markdown",
   "metadata": {
    "_cell_guid": "b5ce93eb-b216-44f4-aacb-f3e5f901d7bf",
    "_uuid": "78cf5e5d7cbdddb572b38f30dc064f256f40fc05"
   },
   "source": [
    "Let us examine the correlation of all predictors with the response variable. To this end, we need first to convert the categorical features into numeric features as follows:"
   ]
  },
  {
   "cell_type": "code",
   "execution_count": 61,
   "metadata": {
    "_cell_guid": "22b300c9-5d55-4c69-934d-51af8a5b932f",
    "_uuid": "531262fdb1202c70f3814197af54f60978d1fd21"
   },
   "outputs": [
    {
     "data": {
      "text/html": [
       "<div>\n",
       "<style>\n",
       "    .dataframe thead tr:only-child th {\n",
       "        text-align: right;\n",
       "    }\n",
       "\n",
       "    .dataframe thead th {\n",
       "        text-align: left;\n",
       "    }\n",
       "\n",
       "    .dataframe tbody tr th {\n",
       "        vertical-align: top;\n",
       "    }\n",
       "</style>\n",
       "<table border=\"1\" class=\"dataframe\">\n",
       "  <thead>\n",
       "    <tr style=\"text-align: right;\">\n",
       "      <th></th>\n",
       "      <th>Age</th>\n",
       "      <th>SibSp</th>\n",
       "      <th>Parch</th>\n",
       "      <th>Fare</th>\n",
       "      <th>Survived</th>\n",
       "      <th>Sex_male</th>\n",
       "      <th>Pclass_2</th>\n",
       "      <th>Pclass_3</th>\n",
       "      <th>Embarked_Q</th>\n",
       "      <th>Embarked_S</th>\n",
       "    </tr>\n",
       "    <tr>\n",
       "      <th>index</th>\n",
       "      <th></th>\n",
       "      <th></th>\n",
       "      <th></th>\n",
       "      <th></th>\n",
       "      <th></th>\n",
       "      <th></th>\n",
       "      <th></th>\n",
       "      <th></th>\n",
       "      <th></th>\n",
       "      <th></th>\n",
       "    </tr>\n",
       "  </thead>\n",
       "  <tbody>\n",
       "    <tr>\n",
       "      <th>0</th>\n",
       "      <td>22.0</td>\n",
       "      <td>1</td>\n",
       "      <td>0</td>\n",
       "      <td>7.2500</td>\n",
       "      <td>0</td>\n",
       "      <td>1</td>\n",
       "      <td>0</td>\n",
       "      <td>1</td>\n",
       "      <td>0</td>\n",
       "      <td>1</td>\n",
       "    </tr>\n",
       "    <tr>\n",
       "      <th>1</th>\n",
       "      <td>38.0</td>\n",
       "      <td>1</td>\n",
       "      <td>0</td>\n",
       "      <td>71.2833</td>\n",
       "      <td>1</td>\n",
       "      <td>0</td>\n",
       "      <td>0</td>\n",
       "      <td>0</td>\n",
       "      <td>0</td>\n",
       "      <td>0</td>\n",
       "    </tr>\n",
       "    <tr>\n",
       "      <th>2</th>\n",
       "      <td>26.0</td>\n",
       "      <td>0</td>\n",
       "      <td>0</td>\n",
       "      <td>7.9250</td>\n",
       "      <td>1</td>\n",
       "      <td>0</td>\n",
       "      <td>0</td>\n",
       "      <td>1</td>\n",
       "      <td>0</td>\n",
       "      <td>1</td>\n",
       "    </tr>\n",
       "    <tr>\n",
       "      <th>3</th>\n",
       "      <td>35.0</td>\n",
       "      <td>1</td>\n",
       "      <td>0</td>\n",
       "      <td>53.1000</td>\n",
       "      <td>1</td>\n",
       "      <td>0</td>\n",
       "      <td>0</td>\n",
       "      <td>0</td>\n",
       "      <td>0</td>\n",
       "      <td>1</td>\n",
       "    </tr>\n",
       "    <tr>\n",
       "      <th>4</th>\n",
       "      <td>35.0</td>\n",
       "      <td>0</td>\n",
       "      <td>0</td>\n",
       "      <td>8.0500</td>\n",
       "      <td>0</td>\n",
       "      <td>1</td>\n",
       "      <td>0</td>\n",
       "      <td>1</td>\n",
       "      <td>0</td>\n",
       "      <td>1</td>\n",
       "    </tr>\n",
       "  </tbody>\n",
       "</table>\n",
       "</div>"
      ],
      "text/plain": [
       "        Age  SibSp  Parch     Fare  Survived  Sex_male  Pclass_2  Pclass_3  \\\n",
       "index                                                                        \n",
       "0      22.0      1      0   7.2500         0         1         0         1   \n",
       "1      38.0      1      0  71.2833         1         0         0         0   \n",
       "2      26.0      0      0   7.9250         1         0         0         1   \n",
       "3      35.0      1      0  53.1000         1         0         0         0   \n",
       "4      35.0      0      0   8.0500         0         1         0         1   \n",
       "\n",
       "       Embarked_Q  Embarked_S  \n",
       "index                          \n",
       "0               0           1  \n",
       "1               0           0  \n",
       "2               0           1  \n",
       "3               0           1  \n",
       "4               0           1  "
      ]
     },
     "execution_count": 61,
     "metadata": {},
     "output_type": "execute_result"
    }
   ],
   "source": [
    "train_get_dummy = pd.get_dummies(columns=['Sex', 'Pclass', 'Embarked'], drop_first = True, data = train)\n",
    "train_get_dummy.head()"
   ]
  },
  {
   "cell_type": "code",
   "execution_count": 62,
   "metadata": {
    "_cell_guid": "9268663f-4ba7-4d4e-8085-578fc5f22c56",
    "_uuid": "59ff326c0e79b0c5de3e6be32f11fea7b11209ab"
   },
   "outputs": [
    {
     "data": {
      "text/plain": [
       "<matplotlib.axes._subplots.AxesSubplot at 0xd09c780>"
      ]
     },
     "execution_count": 62,
     "metadata": {},
     "output_type": "execute_result"
    },
    {
     "data": {
      "image/png": "[encoded data removed]",
      "text/plain": [
       "<matplotlib.figure.Figure at 0xd2eb160>"
      ]
     },
     "metadata": {},
     "output_type": "display_data"
    }
   ],
   "source": [
    "plt.figure(figsize = (12, 8))\n",
    "sns.heatmap(pd.DataFrame(train_get_dummy.corr().unstack()['Survived'], \n",
    "                         columns = ['Survived']), annot = True, cmap = 'coolwarm')"
   ]
  },
  {
   "cell_type": "markdown",
   "metadata": {
    "_cell_guid": "a211503f-f235-4163-84df-97f5c65a21cd",
    "_uuid": "209b4187e2308af3fcfeca95cfb5c696dcb8cba4"
   },
   "source": [
    "The most correlated features with the response variable are: Sex_male (negative), Fare (positive), and Pclass_3 (negative).   "
   ]
  },
  {
   "cell_type": "markdown",
   "metadata": {
    "_cell_guid": "4fe1bf7c-ccec-415b-a815-9d8e4ec3eef8",
    "_uuid": "caba9d30f69f8f99e013c24717179ef6cd17f51e",
    "collapsed": true
   },
   "source": [
    "# 4. Training and tentative evaluation of the model:\n",
    "At this stage, we reached to the point we are ready to use machine learning algorithms on our data. Since we have the response variable only in the training dataset, we will split it into two parts: training part to train the model, and testing part to test the performance of our model. Since this is a binary classification problem, we will be using logistic regression. "
   ]
  },
  {
   "cell_type": "code",
   "execution_count": 63,
   "metadata": {
    "_cell_guid": "cc72e1c2-0722-46d9-a1f9-763518bf50d0",
    "_uuid": "ae7e19c8cc670d35652b5e89a596c02c391055f2"
   },
   "outputs": [
    {
     "name": "stderr",
     "output_type": "stream",
     "text": [
      "C:\\Anacoda\\lib\\site-packages\\statsmodels\\compat\\pandas.py:56: FutureWarning: The pandas.core.datetools module is deprecated and will be removed in a future version. Please use the pandas.tseries module instead.\n",
      "  from pandas.core import datetools\n"
     ]
    }
   ],
   "source": [
    "from sklearn.model_selection import train_test_split, cross_val_score, GridSearchCV\n",
    "from sklearn.linear_model import LogisticRegression\n",
    "from sklearn.metrics import classification_report, confusion_matrix\n",
    "import numpy as np\n",
    "import statsmodels.api as sm\n",
    "from sklearn.dummy import DummyClassifier\n",
    "from sklearn.discriminant_analysis import LinearDiscriminantAnalysis, QuadraticDiscriminantAnalysis\n",
    "from sklearn.preprocessing import StandardScaler, scale\n",
    "from sklearn.neighbors import KNeighborsClassifier\n",
    "from sklearn.ensemble import VotingClassifier, BaggingClassifier, RandomForestClassifier\n",
    "from sklearn.decomposition import PCA\n",
    "from sklearn.feature_selection import RFECV\n",
    "from sklearn.tree import DecisionTreeClassifier\n",
    "from sklearn.svm import SVC\n",
    "from sklearn.naive_bayes import MultinomialNB"
   ]
  },
  {
   "cell_type": "code",
   "execution_count": 64,
   "metadata": {
    "_cell_guid": "e360fadd-7d13-4997-8fe7-68078b81a13e",
    "_uuid": "9c64270603a151393e4cdacfc2d31c009273eac1"
   },
   "outputs": [],
   "source": [
    "def forward_stepwise_selection(df):\n",
    "    '''\n",
    "    This function takes as an input a dataframe with Survived as one of its columns performs forward\n",
    "    stepwise selection on the features. For a given number of features, R-squared is used to determine\n",
    "    the best predictor to add. After having the P models (P is the number of predictors), we select the best\n",
    "    model size using 5-fold cross validation mean score.\n",
    "    '''\n",
    "    p = len(df.columns)#the total number of predictors\n",
    "    X = df.drop('Survived', axis = 1)\n",
    "    columns = list(X.columns)\n",
    "    y = df['Survived']\n",
    "    best_cols_global = []\n",
    "    for col1 in columns:\n",
    "        max_score = -1\n",
    "        for col2 in columns:\n",
    "            model = LogisticRegression()\n",
    "            if col2 not in best_cols_global:\n",
    "                cols = best_cols_global[:]\n",
    "                #print(cols)\n",
    "                cols.append(col2)\n",
    "                #print(cols)\n",
    "                model.fit(X[cols], y)\n",
    "                score = model.score(X[cols], y)\n",
    "                if score > max_score:\n",
    "                    max_score = score\n",
    "                    best_col = col2\n",
    "                    #print(best_col)\n",
    "        if best_col not in best_cols_global:        \n",
    "            best_cols_global.append(best_col)\n",
    "        print(best_cols_global, max_score)\n",
    "        model = LogisticRegression()\n",
    "        mean_score = cross_val_score(model, X[best_cols_global], y, cv = 5).mean()\n",
    "        print('CV mean score is ', mean_score)"
   ]
  },
  {
   "cell_type": "code",
   "execution_count": 65,
   "metadata": {
    "_cell_guid": "51b3fa2c-177d-4087-90e4-58e684f3a5fe",
    "_uuid": "df3f8cc5c85c9e26301f67105c4e69672e445aea"
   },
   "outputs": [
    {
     "name": "stdout",
     "output_type": "stream",
     "text": [
      "['Sex_male'] 0.786756453423\n",
      "CV mean score is  0.786715024929\n",
      "['Sex_male', 'SibSp'] 0.791245791246\n",
      "CV mean score is  0.788974911935\n",
      "['Sex_male', 'SibSp', 'Pclass_3'] 0.800224466891\n",
      "CV mean score is  0.799087342413\n",
      "['Sex_male', 'SibSp', 'Pclass_3', 'Age'] 0.803591470258\n",
      "CV mean score is  0.801340952349\n",
      "['Sex_male', 'SibSp', 'Pclass_3', 'Age', 'Embarked_S'] 0.811447811448\n",
      "CV mean score is  0.805829128228\n",
      "['Sex_male', 'SibSp', 'Pclass_3', 'Age', 'Embarked_S', 'Fare'] 0.812570145903\n",
      "CV mean score is  0.801341094203\n",
      "['Sex_male', 'SibSp', 'Pclass_3', 'Age', 'Embarked_S', 'Fare', 'Pclass_2'] 0.812570145903\n",
      "CV mean score is  0.804724505787\n",
      "['Sex_male', 'SibSp', 'Pclass_3', 'Age', 'Embarked_S', 'Fare', 'Pclass_2', 'Embarked_Q'] 0.812570145903\n",
      "CV mean score is  0.804724505787\n",
      "['Sex_male', 'SibSp', 'Pclass_3', 'Age', 'Embarked_S', 'Fare', 'Pclass_2', 'Embarked_Q', 'Parch'] 0.810325476992\n",
      "CV mean score is  0.799119011471\n"
     ]
    }
   ],
   "source": [
    "forward_stepwise_selection(train_get_dummy)"
   ]
  },
  {
   "cell_type": "markdown",
   "metadata": {
    "_cell_guid": "21010501-ffe8-4323-8642-38b89d010897",
    "_uuid": "14974924de2858176c675a9f37ae124736cc2368"
   },
   "source": [
    "From the above summary, we see that the features ['Sex_male', 'SibSp', 'Pclass_3', 'Age', 'Embarked_S'] gives the highest mean score among all model sizes. So, we will use these features only, and drop the rest. "
   ]
  },
  {
   "cell_type": "code",
   "execution_count": 66,
   "metadata": {
    "_cell_guid": "e1ff5fa4-ec4c-40df-b381-f2358ccf0c22",
    "_uuid": "4e1971f95fbc604349463943513c000d0952a62f"
   },
   "outputs": [],
   "source": [
    "def summary_results(df):\n",
    "    '''\n",
    "    This function takes as input a dataframe that has Survived as one of its columns, and\n",
    "    does the following:\n",
    "    \n",
    "    1- Split the dataframe into a training and testing dataset with a test size of 0.3.\n",
    "    2- Define a list of models to be used\n",
    "    3- Train each model\n",
    "    4- Make predictions on the testing dataset\n",
    "    \n",
    "    The outputs of the function is:\n",
    "    1- The acuuracy of the models using the confusion matrix\n",
    "    2- the 5-fold cross-validation mean score of the models.\n",
    "    '''\n",
    "    X_train, X_test, y_train, y_test = train_test_split(df.drop('Survived', axis = 1),\n",
    "                                                       df['Survived'],\n",
    "                                                       test_size = 0.3,\n",
    "                                                       random_state = 100)\n",
    "    pca = PCA(n_components = 3)\n",
    "\n",
    "    X_train = scale(X_train)\n",
    "    X_test = scale(X_test) \n",
    "    \n",
    "    X_train = pca.fit_transform(X_train)\n",
    "    X_test = pca.fit_transform(X_test)\n",
    "\n",
    "\n",
    "    \n",
    "    k_max = -10\n",
    "    mean_score_max = -10\n",
    "    for kk in range(1, 20, 2):\n",
    "        KNN_model = KNeighborsClassifier(n_neighbors = kk)\n",
    "        mean_score = cross_val_score(KNN_model, df.drop('Survived', axis = 1),\n",
    "                                df['Survived'], cv = 10).mean()\n",
    "    #print('K = ', kk, 'mean score = ', mean_score)\n",
    "        if mean_score > mean_score_max:\n",
    "            mean_score_max = mean_score\n",
    "            k_max = kk\n",
    "            \n",
    "    print('The best K for K-NN using 5-fold CV is ', k_max)\n",
    "    \n",
    "    DC = DummyClassifier(strategy = 'most_frequent')\n",
    "    LR = LogisticRegression()\n",
    "    LDA = LinearDiscriminantAnalysis()\n",
    "    QDA = QuadraticDiscriminantAnalysis()\n",
    "    KNN = KNeighborsClassifier(n_neighbors = k_max)\n",
    "    DTC = DecisionTreeClassifier()\n",
    "    BC = BaggingClassifier(n_estimators = 300)\n",
    "    RFC = RandomForestClassifier(n_estimators = 300)\n",
    "    SVCL = SVC(C = 1, probability = True)\n",
    "    MLC = MultinomialNB()\n",
    "    VC = VotingClassifier(estimators=[('lr', LR), \n",
    "                                      #('LDA', LDA),\n",
    "                                      ('QDA', QDA),\n",
    "                                     # ('DTC', DTC),\n",
    "                                      ('BC', BC),\n",
    "                                      ('RFC', RFC),\n",
    "                                      ('SVC', SVCL),\n",
    "                                      #('MLC', MLC),\n",
    "                                      #('KNN', KNN)\n",
    "                                     ], \n",
    "                          voting = 'soft')\n",
    "    \n",
    "    classifiers = [DC, \n",
    "                   LR, \n",
    "                   LDA, \n",
    "                   QDA,\n",
    "                   DTC,\n",
    "                   BC,\n",
    "                   RFC,\n",
    "                   KNN,\n",
    "                   SVCL,\n",
    "                  # MLC,\n",
    "                   VC]\n",
    "    \n",
    "    list_of_classifiers = ['Null Classifier',\n",
    "                           'Logistic Regression', \n",
    "                           'Linear Discriminant Analaysis', \n",
    "                           'Quadratic Discriminant Analysis', \n",
    "                           'Decision Tree Classifier',\n",
    "                           'Bagging Classifier',\n",
    "                           'Random Forest Classifier',\n",
    "                           'K-Nearest Neighbors', \n",
    "                           'Support Vector Classifier',\n",
    "                           #'Multinomial Naive Bayes',\n",
    "                           'Voting Classifier']\n",
    "    max_len = max(list_of_classifiers, key = len)#this returns the string of the maximum length\n",
    "    \n",
    "#     scaler = StandardScaler()\n",
    "#     X_train_KNN = scaler.fit_transform(X_train)\n",
    "#     X_test_KNN = scaler.fit_transform(X_test)\n",
    "    \n",
    "    \n",
    "    print('================================================================================')   \n",
    "    print('{}{}{}{}'.format('Model Name:', ' '*(len(max_len)-len('Model Name:')+3), 'Accuracy', '\\t5-fold CV Mean Score'))\n",
    "    print('================================================================================')   \n",
    "\n",
    "    i = 0\n",
    "    for model in classifiers:\n",
    "        model.fit(X_train, y_train)\n",
    "        pred = model.predict(X_test) \n",
    "        Con_mat = confusion_matrix(y_test, pred)\n",
    "        acc = (Con_mat[0,0]+Con_mat[1,1])/(Con_mat[0,0]+Con_mat[0,1]+Con_mat[1,0]+Con_mat[1,1])\n",
    "        mean_score = cross_val_score(model, df.drop('Survived', axis = 1), df['Survived'], cv = 5).mean()\n",
    "        diff = len(max_len)-len(list_of_classifiers[i])+5\n",
    "        print('{}{}{:.3f}\\t{:.3f}'.format(list_of_classifiers[i], ' '*diff, acc, mean_score))\n",
    "        #print(list_of_classifiers[i], acc)\n",
    "        i += 1\n",
    "        \n",
    "#     print('================================================================================')   \n",
    "#     print('\\n'*2)\n",
    "#     print(' '*15+'Summary result of the logistic regression model')\n",
    "#     print('\\n'*2)\n",
    "#     print('================================================================================') \n",
    "#     X_train = sm.add_constant(X_train)\n",
    "#     model_stats = sm.Logit(y_train, X_train)\n",
    "#     result = model_stats.fit()\n",
    "#     print(result.summary2())"
   ]
  },
  {
   "cell_type": "markdown",
   "metadata": {
    "_cell_guid": "7a70357f-2931-4be5-bc6d-a378b2a87e01",
    "_uuid": "89c8b14c5713031534fb7bea1a1611f0295f5d0f"
   },
   "source": [
    "## 4.1 Null Classifier\n",
    "The null classifier assumes that all passengers didn't survive (assumes the most frequent class for all passengers). This classifiers  serves as the worst classifier with the lowest accuracy. . "
   ]
  },
  {
   "cell_type": "markdown",
   "metadata": {
    "_cell_guid": "0c4660f0-39f1-4353-ae6b-c64ec0df5314",
    "_uuid": "7827278902aabdc8e3ca53b994b7bdfc91d1dbf3"
   },
   "source": [
    "## 4.2 Logistic regression, LDA,  QDA, DTC, BC, RFC, and K-NN:"
   ]
  },
  {
   "cell_type": "markdown",
   "metadata": {
    "_cell_guid": "303f723b-6edf-4f27-b11a-cd69f4e3de5b",
    "_uuid": "3b641c5db06b18d272e778e63ee2cc0230b211a6"
   },
   "source": [
    "We will consider the following classifiers: logistic regression, linear discriminant analysis, quadratic discriminant analysis, decision tree classifier, bagging classifier, random forest classifier, and K-NN. The following is a summary for the accuracy of all the models "
   ]
  },
  {
   "cell_type": "code",
   "execution_count": 67,
   "metadata": {
    "_cell_guid": "c5a1cd89-48cb-4bb2-bf49-b82204acbc1a",
    "_uuid": "e13fc1847b4b9e6de3d6e00a42ef69386cdc1f99"
   },
   "outputs": [
    {
     "name": "stdout",
     "output_type": "stream",
     "text": [
      "The best K for K-NN using 5-fold CV is  11\n",
      "================================================================================\n",
      "Model Name:                       Accuracy\t5-fold CV Mean Score\n",
      "================================================================================\n",
      "Null Classifier                     0.593\t0.616\n",
      "Logistic Regression                 0.772\t0.806\n",
      "Linear Discriminant Analaysis       0.772\t0.796\n",
      "Quadratic Discriminant Analysis     0.795\t0.802\n",
      "Decision Tree Classifier            0.757\t0.795\n",
      "Bagging Classifier                  0.761\t0.799\n",
      "Random Forest Classifier            0.772\t0.797\n",
      "K-Nearest Neighbors                 0.791\t0.772\n",
      "Support Vector Classifier           0.784\t0.815\n",
      "Voting Classifier                   0.791\t0.820\n"
     ]
    }
   ],
   "source": [
    "summary_results(train_get_dummy[['Survived','Sex_male', 'SibSp', 'Pclass_3', 'Age', 'Embarked_S']])"
   ]
  },
  {
   "cell_type": "markdown",
   "metadata": {
    "_cell_guid": "f980025c-3879-452e-b379-5cd8d6faa369",
    "_uuid": "f2ca60d2214e5123c62c409de45614c051912386"
   },
   "source": [
    "Since our goal is to predict if a passenger survived or not based on his/her predictor variables, and there is no different costs associated with a passenger predicted as survived or not, the accuracy metric is a good indicator for the performance of the model, which is found by summing the diagonal elements in the confusion matrix divided by the total number of observations. A more accurate performance measure is the cross validation score, since all the training data is used for both training and evaluating the model.  \n",
    "\n",
    "We note from the above summary that bagging classifier has the highest mean score. The voting classifier that uses soft decisions from all the individual classifiers listed above except LDA, DTC and KNN (because they scored < 80% accuracy) performs better than  any individual classifier.\n",
    "\n",
    "Next, we will prepare the test data, and use voting classifier to predict the response variable. "
   ]
  },
  {
   "cell_type": "markdown",
   "metadata": {
    "_cell_guid": "c66b070e-797b-4991-8389-23ad1f540260",
    "_uuid": "97849e0737d6937316631dcdd559ca1634ab2921"
   },
   "source": [
    "# 5. Test Data Predictions:"
   ]
  },
  {
   "cell_type": "code",
   "execution_count": 68,
   "metadata": {
    "_cell_guid": "d1dd99d3-52d7-447b-92ab-933eb0812295",
    "_uuid": "b34ac774af29ce87809de07c97e46e3bc5503a3e"
   },
   "outputs": [
    {
     "data": {
      "text/html": [
       "<div>\n",
       "<style>\n",
       "    .dataframe thead tr:only-child th {\n",
       "        text-align: right;\n",
       "    }\n",
       "\n",
       "    .dataframe thead th {\n",
       "        text-align: left;\n",
       "    }\n",
       "\n",
       "    .dataframe tbody tr th {\n",
       "        vertical-align: top;\n",
       "    }\n",
       "</style>\n",
       "<table border=\"1\" class=\"dataframe\">\n",
       "  <thead>\n",
       "    <tr style=\"text-align: right;\">\n",
       "      <th></th>\n",
       "      <th>Pclass</th>\n",
       "      <th>Sex</th>\n",
       "      <th>Age</th>\n",
       "      <th>SibSp</th>\n",
       "      <th>Parch</th>\n",
       "      <th>Fare</th>\n",
       "      <th>Embarked</th>\n",
       "    </tr>\n",
       "    <tr>\n",
       "      <th>index</th>\n",
       "      <th></th>\n",
       "      <th></th>\n",
       "      <th></th>\n",
       "      <th></th>\n",
       "      <th></th>\n",
       "      <th></th>\n",
       "      <th></th>\n",
       "    </tr>\n",
       "  </thead>\n",
       "  <tbody>\n",
       "    <tr>\n",
       "      <th>0</th>\n",
       "      <td>3</td>\n",
       "      <td>male</td>\n",
       "      <td>34.5</td>\n",
       "      <td>0</td>\n",
       "      <td>0</td>\n",
       "      <td>7.8292</td>\n",
       "      <td>Q</td>\n",
       "    </tr>\n",
       "    <tr>\n",
       "      <th>1</th>\n",
       "      <td>3</td>\n",
       "      <td>female</td>\n",
       "      <td>47.0</td>\n",
       "      <td>1</td>\n",
       "      <td>0</td>\n",
       "      <td>7.0000</td>\n",
       "      <td>S</td>\n",
       "    </tr>\n",
       "    <tr>\n",
       "      <th>2</th>\n",
       "      <td>2</td>\n",
       "      <td>male</td>\n",
       "      <td>62.0</td>\n",
       "      <td>0</td>\n",
       "      <td>0</td>\n",
       "      <td>9.6875</td>\n",
       "      <td>Q</td>\n",
       "    </tr>\n",
       "    <tr>\n",
       "      <th>3</th>\n",
       "      <td>3</td>\n",
       "      <td>male</td>\n",
       "      <td>27.0</td>\n",
       "      <td>0</td>\n",
       "      <td>0</td>\n",
       "      <td>8.6625</td>\n",
       "      <td>S</td>\n",
       "    </tr>\n",
       "    <tr>\n",
       "      <th>4</th>\n",
       "      <td>3</td>\n",
       "      <td>female</td>\n",
       "      <td>22.0</td>\n",
       "      <td>1</td>\n",
       "      <td>1</td>\n",
       "      <td>12.2875</td>\n",
       "      <td>S</td>\n",
       "    </tr>\n",
       "  </tbody>\n",
       "</table>\n",
       "</div>"
      ],
      "text/plain": [
       "       Pclass     Sex   Age  SibSp  Parch     Fare Embarked\n",
       "index                                                      \n",
       "0           3    male  34.5      0      0   7.8292        Q\n",
       "1           3  female  47.0      1      0   7.0000        S\n",
       "2           2    male  62.0      0      0   9.6875        Q\n",
       "3           3    male  27.0      0      0   8.6625        S\n",
       "4           3  female  22.0      1      1  12.2875        S"
      ]
     },
     "execution_count": 68,
     "metadata": {},
     "output_type": "execute_result"
    }
   ],
   "source": [
    "test.head()"
   ]
  },
  {
   "cell_type": "code",
   "execution_count": 69,
   "metadata": {
    "_cell_guid": "4b4c1b1c-33b3-4ba1-8ed6-51ab5d1d65ca",
    "_uuid": "81b65b56dc0c4d93556fd9cb7efc4f47fc2e9173"
   },
   "outputs": [
    {
     "data": {
      "text/html": [
       "<div>\n",
       "<style>\n",
       "    .dataframe thead tr:only-child th {\n",
       "        text-align: right;\n",
       "    }\n",
       "\n",
       "    .dataframe thead th {\n",
       "        text-align: left;\n",
       "    }\n",
       "\n",
       "    .dataframe tbody tr th {\n",
       "        vertical-align: top;\n",
       "    }\n",
       "</style>\n",
       "<table border=\"1\" class=\"dataframe\">\n",
       "  <thead>\n",
       "    <tr style=\"text-align: right;\">\n",
       "      <th></th>\n",
       "      <th>Sex_male</th>\n",
       "      <th>SibSp</th>\n",
       "      <th>Pclass_3</th>\n",
       "      <th>Age</th>\n",
       "      <th>Embarked_S</th>\n",
       "    </tr>\n",
       "    <tr>\n",
       "      <th>index</th>\n",
       "      <th></th>\n",
       "      <th></th>\n",
       "      <th></th>\n",
       "      <th></th>\n",
       "      <th></th>\n",
       "    </tr>\n",
       "  </thead>\n",
       "  <tbody>\n",
       "    <tr>\n",
       "      <th>0</th>\n",
       "      <td>1</td>\n",
       "      <td>0</td>\n",
       "      <td>1</td>\n",
       "      <td>34.5</td>\n",
       "      <td>0</td>\n",
       "    </tr>\n",
       "    <tr>\n",
       "      <th>1</th>\n",
       "      <td>0</td>\n",
       "      <td>1</td>\n",
       "      <td>1</td>\n",
       "      <td>47.0</td>\n",
       "      <td>1</td>\n",
       "    </tr>\n",
       "    <tr>\n",
       "      <th>2</th>\n",
       "      <td>1</td>\n",
       "      <td>0</td>\n",
       "      <td>0</td>\n",
       "      <td>62.0</td>\n",
       "      <td>0</td>\n",
       "    </tr>\n",
       "    <tr>\n",
       "      <th>3</th>\n",
       "      <td>1</td>\n",
       "      <td>0</td>\n",
       "      <td>1</td>\n",
       "      <td>27.0</td>\n",
       "      <td>1</td>\n",
       "    </tr>\n",
       "    <tr>\n",
       "      <th>4</th>\n",
       "      <td>0</td>\n",
       "      <td>1</td>\n",
       "      <td>1</td>\n",
       "      <td>22.0</td>\n",
       "      <td>1</td>\n",
       "    </tr>\n",
       "  </tbody>\n",
       "</table>\n",
       "</div>"
      ],
      "text/plain": [
       "       Sex_male  SibSp  Pclass_3   Age  Embarked_S\n",
       "index                                             \n",
       "0             1      0         1  34.5           0\n",
       "1             0      1         1  47.0           1\n",
       "2             1      0         0  62.0           0\n",
       "3             1      0         1  27.0           1\n",
       "4             0      1         1  22.0           1"
      ]
     },
     "execution_count": 69,
     "metadata": {},
     "output_type": "execute_result"
    }
   ],
   "source": [
    "test_get_dummies = pd.get_dummies(test, columns = ['Sex', 'Pclass', 'Embarked'], drop_first = True)\n",
    "test_get_dummies = test_get_dummies[['Sex_male', 'SibSp', 'Pclass_3', 'Age', 'Embarked_S']]\n",
    "test_get_dummies.head()"
   ]
  },
  {
   "cell_type": "markdown",
   "metadata": {
    "_cell_guid": "3c6e8415-eec7-4cdd-876d-dfeb363f2223",
    "_uuid": "c804701b5473628e6e7493f79d57dada85245c39"
   },
   "source": [
    "Let us make the predictions on the processed test dataset. To this end, we need to train the model using **ALL**  training data."
   ]
  },
  {
   "cell_type": "code",
   "execution_count": 70,
   "metadata": {
    "_cell_guid": "1840d0e5-df08-4ab8-8bf1-e2bb75a9ebe7",
    "_uuid": "08e002eeb6e6fcce093a8a6d4f0fb23c008d7994"
   },
   "outputs": [],
   "source": [
    "LR = LogisticRegression()\n",
    "LDA = LinearDiscriminantAnalysis()\n",
    "QDA = QuadraticDiscriminantAnalysis()\n",
    "KNN = KNeighborsClassifier(n_neighbors = 11)\n",
    "DTC = DecisionTreeClassifier()\n",
    "BC = BaggingClassifier(n_estimators = 300)\n",
    "RFC = RandomForestClassifier(n_estimators = 300)\n",
    "SVCL = SVC(probability = True)\n",
    "best_model = VotingClassifier(estimators=[('lr', LR), \n",
    "                                      #('LDA', LDA),\n",
    "                                      ('QDA', QDA),\n",
    "                                     # ('DTC', DTC),\n",
    "                                      ('BC', BC),\n",
    "                                      ('RFC', RFC),\n",
    "                                      ('SVC', SVCL),\n",
    "                                      #('KNN', KNN)\n",
    "                                     ], \n",
    "                          voting = 'soft')"
   ]
  },
  {
   "cell_type": "code",
   "execution_count": 71,
   "metadata": {
    "_cell_guid": "52db6dd0-49d5-48e3-b7ba-b1aa263ff081",
    "_uuid": "96b35694fc0db350a523634db3d97d2898f4f785"
   },
   "outputs": [
    {
     "data": {
      "text/plain": [
       "VotingClassifier(estimators=[('lr', LogisticRegression(C=1.0, class_weight=None, dual=False, fit_intercept=True,\n",
       "          intercept_scaling=1, max_iter=100, multi_class='ovr', n_jobs=1,\n",
       "          penalty='l2', random_state=None, solver='liblinear', tol=0.0001,\n",
       "          verbose=0, warm_start=False)), ('QDA', Quadra...',\n",
       "  max_iter=-1, probability=True, random_state=None, shrinking=True,\n",
       "  tol=0.001, verbose=False))],\n",
       "         flatten_transform=None, n_jobs=1, voting='soft', weights=None)"
      ]
     },
     "execution_count": 71,
     "metadata": {},
     "output_type": "execute_result"
    }
   ],
   "source": [
    "best_model.fit(train_get_dummy[['Sex_male', 'SibSp', 'Pclass_3', 'Age', 'Embarked_S']], \n",
    "               train_get_dummy['Survived'])"
   ]
  },
  {
   "cell_type": "markdown",
   "metadata": {
    "_cell_guid": "be0a4010-82b1-4033-84a0-790acf7d7850",
    "_uuid": "ad027dfe0bf81531ffe11b6df9c8624365585f00"
   },
   "source": [
    "Let us prepare the final file that contains the predictions in the required format."
   ]
  },
  {
   "cell_type": "code",
   "execution_count": 72,
   "metadata": {
    "_cell_guid": "9d827740-6193-44f7-bbf2-d9473b4bd1b3",
    "_uuid": "0c6726fd07c2485de0e362167bb2c21d89c8fd4e"
   },
   "outputs": [
    {
     "data": {
      "text/html": [
       "<div>\n",
       "<style>\n",
       "    .dataframe thead tr:only-child th {\n",
       "        text-align: right;\n",
       "    }\n",
       "\n",
       "    .dataframe thead th {\n",
       "        text-align: left;\n",
       "    }\n",
       "\n",
       "    .dataframe tbody tr th {\n",
       "        vertical-align: top;\n",
       "    }\n",
       "</style>\n",
       "<table border=\"1\" class=\"dataframe\">\n",
       "  <thead>\n",
       "    <tr style=\"text-align: right;\">\n",
       "      <th></th>\n",
       "      <th>PassengerId</th>\n",
       "      <th>Survived</th>\n",
       "    </tr>\n",
       "  </thead>\n",
       "  <tbody>\n",
       "    <tr>\n",
       "      <th>0</th>\n",
       "      <td>892</td>\n",
       "      <td>0</td>\n",
       "    </tr>\n",
       "    <tr>\n",
       "      <th>1</th>\n",
       "      <td>893</td>\n",
       "      <td>0</td>\n",
       "    </tr>\n",
       "    <tr>\n",
       "      <th>2</th>\n",
       "      <td>894</td>\n",
       "      <td>0</td>\n",
       "    </tr>\n",
       "    <tr>\n",
       "      <th>3</th>\n",
       "      <td>895</td>\n",
       "      <td>0</td>\n",
       "    </tr>\n",
       "    <tr>\n",
       "      <th>4</th>\n",
       "      <td>896</td>\n",
       "      <td>1</td>\n",
       "    </tr>\n",
       "  </tbody>\n",
       "</table>\n",
       "</div>"
      ],
      "text/plain": [
       "   PassengerId  Survived\n",
       "0          892         0\n",
       "1          893         0\n",
       "2          894         0\n",
       "3          895         0\n",
       "4          896         1"
      ]
     },
     "execution_count": 72,
     "metadata": {},
     "output_type": "execute_result"
    }
   ],
   "source": [
    "PssID_df = pd.DataFrame(PssId, columns = ['PassengerId'])\n",
    "PssID_df['Survived'] = best_model.predict(test_get_dummies)\n",
    "PssID_df.to_csv('final_result.csv', index = False)\n",
    "PssID_df.head()"
   ]
  },
  {
   "cell_type": "markdown",
   "metadata": {
    "_cell_guid": "b64a58bf-491e-420a-94a3-f81588030299",
    "_uuid": "58205279d322fc554005c63ac873d8fd9ec8ea99"
   },
   "source": [
    "The scored result using the above method is 0.77511, which is subject to improvement using more complex algorithms. "
   ]
  },
  {
   "cell_type": "code",
   "execution_count": null,
   "metadata": {
    "_cell_guid": "661e05a8-6084-47f8-87a1-d9e878111c0b",
    "_uuid": "16b44b540bf9a84f1046c0422525079d54af935d"
   },
   "outputs": [],
   "source": []
  }
 ],
 "metadata": {
  "kernelspec": {
   "display_name": "Python 3",
   "language": "python",
   "name": "python3"
  },
  "language_info": {
   "codemirror_mode": {
    "name": "ipython",
    "version": 3
   },
   "file_extension": ".py",
   "mimetype": "text/x-python",
   "name": "python",
   "nbconvert_exporter": "python",
   "pygments_lexer": "ipython3",
   "version": "3.6.3"
  }
 },
 "nbformat": 4,
 "nbformat_minor": 1
}
